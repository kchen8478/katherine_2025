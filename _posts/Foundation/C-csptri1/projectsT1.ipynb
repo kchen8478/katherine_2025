{
 "cells": [
  {
   "cell_type": "markdown",
   "metadata": {},
   "source": [
    "---\n",
    "layout: post\n",
    "title: Learning Habits\n",
    "# description: Establishing pair programming habits in the classroom.  This will extend to other forms of collaboration, such as group work and team projects.\n",
    "# categories: ['Collaboration']\n",
    "# courses: {'csse': {'week': 1}, 'csp': {'week': 1}, 'csa': {'week': 1}}\n",
    "menu: nav/Tri1.html\n",
    "permalink: /projects/Tri1\n",
    "# type: collab\n",
    "# comments: True\n",
    "# sticky_rank: 1\n",
    "---\n",
    "\n",
    "## Habits Intro\n",
    "The provided text text is a comprehensive framework for evaluating students in a Computer Science Project-based learning course, focusing on a broad spectrum of criteria beyond traditional assignment grades. This framework encompasses both soft skills and technical abilities, aiming to create a holistic profile of each student's performance and growth. \n",
    "\n"
   ]
  }
 ],
 "metadata": {
  "language_info": {
   "name": "python"
  }
 },
 "nbformat": 4,
 "nbformat_minor": 2
}
