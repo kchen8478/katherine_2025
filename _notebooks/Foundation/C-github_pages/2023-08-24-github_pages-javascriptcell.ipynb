{
 "cells": [
  {
   "attachments": {},
   "cell_type": "raw",
   "metadata": {
    "vscode": {
     "languageId": "raw"
    }
   },
   "source": [
    "---\n",
    "layout: post\n",
    "title: Javascript Cell\n",
    "permalink: /github/pages/javascriptcell\n",
    "menu: nav/github_pages.html\n",
    "toc: true\n",
    "comments: true\n",
    "---\n",
    "description: JS Cell\n",
    "categories: [GitHub Pages]"
   ]
  },
  {
   "cell_type": "markdown",
   "metadata": {},
   "source": [
    "<html>\n",
    "<head>\n",
    "<style>\n",
    "table, td {\n",
    "  border: 1px solid white;\n",
    "  color: silver;\n",
    "  /* background-color: grey; */\n",
    "}\n",
    ".center {\n",
    "  padding: 70px 0;\n",
    "  border: 3px solid green;\n",
    "  text-align: center;\n",
    "}\n",
    "</style>\n",
    "</head>\n",
    "<body>\n",
    "\n",
    "<!-- <p>Click the button to return the number of cells in the table's first row.</p> -->\n",
    "\n",
    "<table id=\"myTable\">\n",
    "  <tr>\n",
    "    <td>📙📖📚 reading</td>\n",
    "    <td>🫧🪸🐚 beach</td>\n",
    "  </tr>\n",
    "  <tr>\n",
    "    <td>👩🏻‍🍳🍰🥣 baking</td>\n",
    "    <td>🌌🪐✨ name</td>\n",
    "  </tr>\n",
    "</table>\n",
    "<br> \n",
    "\n",
    "<!-- <button onclick=\"myFunction()\">Try it</button> \n",
    "\n",
    "<p id=\"demo\"></p>\n",
    "\n",
    "<script>\n",
    "function myFunction() {\n",
    "  var x = document.getElementById(\"myTable\").rows[0].cells.length;\n",
    "  document.getElementById(\"demo\").innerHTML = \"Found \" + x + \" cells in the first tr element.\";\n",
    "}\n",
    "</script> -->\n",
    "\n",
    "</body>\n",
    "</html>\n"
   ]
  }
 ],
 "metadata": {
  "language_info": {
   "name": "python"
  },
  "orig_nbformat": 4
 },
 "nbformat": 4,
 "nbformat_minor": 2
}
