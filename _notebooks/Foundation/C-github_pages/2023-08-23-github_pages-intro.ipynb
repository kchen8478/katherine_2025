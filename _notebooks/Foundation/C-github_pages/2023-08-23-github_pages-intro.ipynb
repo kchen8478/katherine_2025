{
 "cells": [
  {
   "cell_type": "raw",
   "metadata": {
    "vscode": {
     "languageId": "raw"
    }
   },
   "source": [
    "---\n",
    "layout: post\n",
    "title: GitHub Pages Playground \n",
    "description: The Web Programming topics are focused on learning Frontend programming, GitHub Pages, and Jupyter Notebooks.\n",
    "categories: [Javascript]\n",
    "permalink: /github/pages/intro\n",
    "type: ccc\n",
    "courses: { csse: {week: 1}, csp: {week: 1}, csa: {week: 0} }\n",
    "author: Katherine Chen\n",
    "menu: nav/github_pages.html\n",
    "---"
   ]
  },
  {
   "cell_type": "markdown",
   "metadata": {},
   "source": [
    "\n",
    "## GitHub Pages Mini Project"
   ]
  },
  {
   "cell_type": "code",
   "execution_count": null,
   "metadata": {
    "vscode": {
     "languageId": "javascript"
    }
   },
   "outputs": [
    {
     "data": {
      "application/javascript": "\nvar compsci_joke_list = [\n    { joke: \"Why do programmers prefer dark mode? Because light attracts bugs.\", complexity: \"O(1)\" },\n    { joke: \"Why do Java developers wear glasses? Because they don't see sharp.\", complexity: \"O(1)\" },\n    { joke: \"How many programmers does it take to change a light bulb? None, that's a hardware problem.\", complexity: \"O(1)\" },\n    { joke: \"Why do programmers hate nature? It has too many bugs.\", complexity: \"O(n)\" },\n    { joke: \"Why do Python programmers prefer snake_case? Because they can't C.\", complexity: \"O(1)\" },\n    { joke: \"Why was the JavaScript developer sad? Because he didn't know how to 'null' his feelings.\", complexity: \"O(1)\" },\n    { joke: \"Why do programmers always mix up Christmas and Halloween? Because Oct 31 == Dec 25.\", complexity: \"O(1)\" },\n    { joke: \"Why did the programmer quit his job? Because he didn't get arrays.\", complexity: \"O(n)\" },\n    { joke: \"Why do programmers prefer using the terminal? Because they don't like Windows.\", complexity: \"O(1)\" },\n    { joke: \"Why was the function sad after a breakup? It couldn't find its closure.\", complexity: \"O(1)\" }\n];\nvar randomIndex = Math.floor(Math.random() * compsci_joke_list.length);\nvar selectedJoke = compsci_joke_list[randomIndex];\nconsole.log(\"Joke #\" + (randomIndex + 1) + \": \" + selectedJoke.joke + \" (Complexity: \" + selectedJoke.complexity + \")\");\n",
      "text/plain": [
       "<IPython.core.display.Javascript object>"
      ]
     },
     "metadata": {},
     "output_type": "display_data"
    }
   ],
   "source": [
    "%%javascript\n",
    "\n",
    "var compsci_joke_list = [\n",
    "    { joke: \"Why do programmers prefer dark mode? Because light attracts bugs.\", complexity: \"O(1)\" },\n",
    "    { joke: \"Why do Java developers wear glasses? Because they don't see sharp.\", complexity: \"O(1)\" },\n",
    "    { joke: \"How many programmers does it take to change a light bulb? None, that's a hardware problem.\", complexity: \"O(1)\" },\n",
    "    { joke: \"Why do programmers hate nature? It has too many bugs.\", complexity: \"O(n)\" },\n",
    "    { joke: \"Why do Python programmers prefer snake_case? Because they can't C.\", complexity: \"O(1)\" },\n",
    "    { joke: \"Why was the JavaScript developer sad? Because he didn't know how to 'null' his feelings.\", complexity: \"O(1)\" },\n",
    "    { joke: \"Why do programmers always mix up Christmas and Halloween? Because Oct 31 == Dec 25.\", complexity: \"O(1)\" },\n",
    "    { joke: \"Why did the programmer quit his job? Because he didn't get arrays.\", complexity: \"O(n)\" },\n",
    "    { joke: \"Why do programmers prefer using the terminal? Because they don't like Windows.\", complexity: \"O(1)\" },\n",
    "    { joke: \"Why was the function sad after a breakup? It couldn't find its closure.\", complexity: \"O(1)\" }\n",
    "];\n",
    "var randomIndex = Math.floor(Math.random() * compsci_joke_list.length);\n",
    "var selectedJoke = compsci_joke_list[randomIndex];\n",
    "console.log(\"Joke #\" + (randomIndex + 1) + \": \" + selectedJoke.joke + \" (Complexity: \" + selectedJoke.complexity + \")\");"
   ]
  },
  {
   "cell_type": "code",
   "execution_count": 14,
   "metadata": {
    "vscode": {
     "languageId": "javascript"
    }
   },
   "outputs": [
    {
     "data": {
      "application/javascript": "\nvar accounting_joke_list = [\n    \"Why did the accountant cross the road? To bore the people on the other side.\",\n    \"What do accountants do when they're constipated? They work it out with a pencil.\",\n    \"Why don't accountants read novels? Because the only numbers in them are page numbers.\",\n    \"How does an accountant stay out of debt? He learns to act his wage.\",\n    \"Why did the accountant break up with the calculator? It couldn't handle his complex calculations.\",\n    \"Why did the accountant stare at his glass of orange juice for three hours? Because on the box it said 'concentrate'.\",\n    \"Why did the accountant bring a ladder to work? To reach the high interest rates.\",\n    \"Why did the accountant get promoted? Because he knew how to balance his work and play.\",\n    \"Why did the accountant go broke? Because he lost his balance.\",\n    \"Why did the accountant get a job at the bakery? Because he was good at making dough.\",\n    \"Why did the accountant get a job at the zoo? Because he was good with cheetahs.\",\n    \"Why did the accountant get a job at the bank? Because he was good at counting on it.\",\n    \"Why did the accountant get a job at the library? Because he was good at keeping books.\",\n    \"Why did the accountant get a job at the circus? Because he was good at juggling numbers.\",\n    \"Why did the accountant get a job at the restaurant? Because he was good at serving up the numbers.\",\n    \"Why did the accountant get a job at the gym? Because he was good at working out the numbers.\",\n    \"Why did the accountant get a job at the hospital? Because he was good at taking care of the accounts.\",\n    \"Why did the accountant get a job at the school? Because he was good at teaching the numbers.\",\n    \"Why did the accountant get a job at the farm? Because he was good at counting the chickens before they hatched.\"\n]\nvar randomIndex = Math.floor(Math.random() * accounting_joke_list.length);\nconsole.log(\"Joke #\" + (randomIndex + 1) + \": \" + accounting_joke_list[randomIndex]);\n",
      "text/plain": [
       "<IPython.core.display.Javascript object>"
      ]
     },
     "metadata": {},
     "output_type": "display_data"
    }
   ],
   "source": [
    "%%javascript\n",
    "\n",
    "var accounting_joke_list = [\n",
    "    \"Why did the accountant cross the road? To bore the people on the other side.\",\n",
    "    \"What do accountants do when they're constipated? They work it out with a pencil.\",\n",
    "    \"Why don't accountants read novels? Because the only numbers in them are page numbers.\",\n",
    "    \"How does an accountant stay out of debt? He learns to act his wage.\",\n",
    "    \"Why did the accountant break up with the calculator? It couldn't handle his complex calculations.\",\n",
    "    \"Why did the accountant stare at his glass of orange juice for three hours? Because on the box it said 'concentrate'.\",\n",
    "    \"Why did the accountant bring a ladder to work? To reach the high interest rates.\",\n",
    "    \"Why did the accountant get promoted? Because he knew how to balance his work and play.\",\n",
    "    \"Why did the accountant go broke? Because he lost his balance.\",\n",
    "    \"Why did the accountant get a job at the bakery? Because he was good at making dough.\",\n",
    "    \"Why did the accountant get a job at the zoo? Because he was good with cheetahs.\",\n",
    "    \"Why did the accountant get a job at the bank? Because he was good at counting on it.\",\n",
    "    \"Why did the accountant get a job at the library? Because he was good at keeping books.\",\n",
    "    \"Why did the accountant get a job at the circus? Because he was good at juggling numbers.\",\n",
    "    \"Why did the accountant get a job at the restaurant? Because he was good at serving up the numbers.\",\n",
    "    \"Why did the accountant get a job at the gym? Because he was good at working out the numbers.\",\n",
    "    \"Why did the accountant get a job at the hospital? Because he was good at taking care of the accounts.\",\n",
    "    \"Why did the accountant get a job at the school? Because he was good at teaching the numbers.\",\n",
    "    \"Why did the accountant get a job at the farm? Because he was good at counting the chickens before they hatched.\"\n",
    "]\n",
    "var randomIndex = Math.floor(Math.random() * accounting_joke_list.length);\n",
    "console.log(\"Joke #\" + (randomIndex + 1) + \": \" + accounting_joke_list[randomIndex]);"
   ]
  },
  {
   "cell_type": "code",
   "execution_count": null,
   "metadata": {
    "vscode": {
     "languageId": "javascript"
    }
   },
   "outputs": [],
   "source": [
    "\n",
    "var compsci_joke_list = [\n",
    "     { joke: \"Deadpool and Wolverine\", complexity: \"O(1)\" },\n",
    "     { joke: \"The Wild Robot\", complexity: \"O(1)\" },\n",
    "     { joke: \"Harry Potter\", complexity: \"O(1)\" },\n",
    "     { joke: \"Avatar: The Way of Water\", complexity: \"O(n)\" },\n",
    "     { joke: \"Top Gun: Maverick\", complexity: \"O(1)\" },\n",
    "     { joke: \"Jurrasic World\", complexity: \"O(1)\" },\n",
    "     { joke: \"Captain America\", complexity: \"O(1)\" },\n",
    "     { joke: \"Despicable Me 3\", complexity: \"O(n)\" },\n",
    "     { joke: \"Skyfall\", complexity: \"O(1)\" },\n",
    "     { joke: \"The Lord of the Rings\", complexity: \"O(1)\" }\n",
    " ];\n",
    " var randomIndex = Math.floor(Math.random() * compsci_joke_list.length);\n",
    " var selectedJoke = compsci_joke_list[randomIndex];\n",
    " console.log(\"Joke #\" + (randomIndex + 1) + \": \" + selectedJoke.joke + \" (Complexity: \" + selectedJoke.complexity + \")\");\n",
    " ```\n",
    "\n",
    "\n",
    "     <IPython.core.display.Javascript object>\n",
    "\n",
    "\n",
    "\n",
    " %%javascript\n",
    "\n",
    " var accounting_joke_list = [\n",
    "     \"Why did the accountant cross the road? To bore the people on the other side.\",\n",
    "     \"What do accountants do when they're constipated? They work it out with a pencil.\",\n",
    "     \"Why don't accountants read novels? Because the only numbers in them are page numbers.\",\n",
    "     \"How does an accountant stay out of debt? He learns to act his wage.\",\n",
    "     \"Why did the accountant break up with the calculator? It couldn't handle his complex calculations.\",\n",
    "     \"Why did the accountant stare at his glass of orange juice for three hours? Because on the box it said 'concentrate'.\",\n",
    "     \"Why did the accountant bring a ladder to work? To reach the high interest rates.\",\n",
    "     \"Why did the accountant get promoted? Because he knew how to balance his work and play.\",\n",
    "     \"Why did the accountant go broke? Because he lost his balance.\",\n",
    "     \"Why did the accountant get a job at the bakery? Because he was good at making dough.\",\n",
    "     \"Why did the accountant get a job at the zoo? Because he was good with cheetahs.\",\n",
    "     \"Why did the accountant get a job at the bank? Because he was good at counting on it.\",\n",
    "     \"Why did the accountant get a job at the library? Because he was good at keeping books.\",\n",
    "     \"Why did the accountant get a job at the circus? Because he was good at juggling numbers.\",\n",
    "     \"Why did the accountant get a job at the restaurant? Because he was good at serving up the numbers.\",\n",
    "     \"Why did the accountant get a job at the gym? Because he was good at working out the numbers.\",\n",
    "     \"Why did the accountant get a job at the hospital? Because he was good at taking care of the accounts.\",\n",
    "     \"Why did the accountant get a job at the school? Because he was good at teaching the numbers.\",\n",
    "     \"Why did the accountant get a job at the farm? Because he was good at counting the chickens before they hatched.\"\n",
    " ]\n",
    " var randomIndex = Math.floor(Math.random() * accounting_joke_list.length);\n",
    " console.log(\"Joke #\" + (randomIndex + 1) + \": \" + accounting_joke_list[randomIndex]);\n",
    " ```\n",
    "\n",
    "\n",
    "     <IPython.core.display.Javascript object>"
   ]
  }
 ],
 "metadata": {
  "kernelspec": {
   "display_name": "Python 3",
   "language": "python",
   "name": "python3"
  },
  "language_info": {
   "codemirror_mode": {
    "name": "ipython",
    "version": 3
   },
   "file_extension": ".py",
   "mimetype": "text/x-python",
   "name": "python",
   "nbconvert_exporter": "python",
   "pygments_lexer": "ipython3",
   "version": "3.11.9"
  },
  "orig_nbformat": 4
 },
 "nbformat": 4,
 "nbformat_minor": 2
}
