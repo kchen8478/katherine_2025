{
 "cells": [
  {
   "cell_type": "raw",
   "metadata": {
    "vscode": {
     "languageId": "raw"
    }
   },
   "source": [
    "---\n",
    "layout: post\n",
    "title: About Me\n",
    "description: About Me!!\n",
    "permalink: /github/pages/aboutme\n",
    "author: Katherine Chen\n",
    "menu: nav/github_pages.html\n",
    "toc: true\n",
    "comments: true\n",
    "---\n",
    "categories: [DevOps, Github Pages]"
   ]
  },
  {
   "cell_type": "markdown",
   "metadata": {},
   "source": [
    "# Hobbies and Interests\n",
    "> I love reading thriller novels and fictional novels. \n",
    "<p></p>\n",
    "\n",
    "> Music is a big part of my life, I like to play piano and flute, and I also listen to a lot of music!\n",
    "<p></p>\n",
    "\n",
    "> I find baking very enjoyable, and I often like to make cookies and cakes.\n",
    "<p></p>\n",
    "\n",
    "> My favorite school subject is math, as I find it most interesting. \n",
    "<p></p>\n",
    "\n",
    "> My entire extended family lives overseas, with the exception of my cousin who is studying abroad in the US. \n",
    "<p></p>\n",
    "\n",
    "> I'm one of the younger students in my grade, as I have a summer birthday.\n",
    "<p></p>\n",
    "\n",
    "> I am involved in several school clubs and outside organizations. I'm part of Team Optix and Stickers for Charity, as well as being a board editor for Featheralist. I tutor middle school students outside of school and I am the Head of Graphic Design and Marketing for NexStudent Network!"
   ]
  }
 ],
 "metadata": {
  "kernelspec": {
   "display_name": "Python 3",
   "language": "python",
   "name": "python3"
  },
  "language_info": {
   "codemirror_mode": {
    "name": "ipython",
    "version": 3
   },
   "file_extension": ".py",
   "mimetype": "text/x-python",
   "name": "python",
   "nbconvert_exporter": "python",
   "pygments_lexer": "ipython3",
   "version": "3.10.12"
  }
 },
 "nbformat": 4,
 "nbformat_minor": 2
}
