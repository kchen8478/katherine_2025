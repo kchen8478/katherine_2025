{
 "cells": [
  {
   "cell_type": "raw",
   "metadata": {
    "vscode": {
     "languageId": "raw"
    }
   },
   "source": [
    "---\n",
    "layout: post\n",
    "title: GitHub Pages Hacks \n",
    "description: Objective is to be able to work fully with Notebooks, Submenus, and Anatomy to create your own personal interest blog.\n",
    "categories: [Github Pages]\n",
    "permalink: /github/pages/hacks\n",
    "menu: nav/github_pages.html\n",
    "toc: true\n",
    "comments: true\n",
    "---"
   ]
  },
  {
   "cell_type": "markdown",
   "metadata": {},
   "source": [
    "## hello"
   ]
  }
 ],
 "metadata": {
  "language_info": {
   "name": "python"
  }
 },
 "nbformat": 4,
 "nbformat_minor": 2
}
