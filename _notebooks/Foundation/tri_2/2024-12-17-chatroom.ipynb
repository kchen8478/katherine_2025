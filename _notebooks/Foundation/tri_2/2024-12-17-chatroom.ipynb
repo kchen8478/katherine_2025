{
 "cells": [
  {
   "cell_type": "raw",
   "metadata": {
    "vscode": {
     "languageId": "raw"
    }
   },
   "source": [
    "---\n",
    "toc: true\n",
    "comments: false\n",
    "layout: post\n",
    "title: Sprint 4 - Chatroom\n",
    "permalink: /notebooks/tri_2/chatroom/\n",
    "type: ccc\n",
    "---"
   ]
  },
  {
   "cell_type": "markdown",
   "metadata": {},
   "source": [
    "Program with Input and Output\n",
    "Program with a List\n",
    "Program with a Dictionary\n",
    "Program with Iteration\n",
    "Program with a Function to perform mathematical and/or a statistical calculations.\n",
    "Program with a Selection/Condition\n",
    "Finish with a Program with Purpose\n",
    "Create a Visual Illustration of a program, algorithm, or process. User stories can help.\n",
    "Show documentation of a program with a List and Iteration.\n",
    "Show comments on a program, including something that does a mathematical and/or statistical calculation.\n",
    "Create a tester function that runs a program that create data for testing.\n",
    "Show comments and code logic that captures conditions if a user errors in input with if / else statements.\n",
    "Show comments and code logic that handles error conditions in code if data or database fails, for example try / catch statements.\n",
    "Illustrate a debugging session using inspect in browser on frontend.\n",
    "Illustrate a debugging session that uses Postman and VS Code to debug backend."
   ]
  }
 ],
 "metadata": {
  "language_info": {
   "name": "python"
  }
 },
 "nbformat": 4,
 "nbformat_minor": 2
}
