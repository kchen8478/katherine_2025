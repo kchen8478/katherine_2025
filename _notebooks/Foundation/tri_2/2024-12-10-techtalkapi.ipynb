{
 "cells": [
  {
   "cell_type": "raw",
   "metadata": {
    "vscode": {
     "languageId": "raw"
    }
   },
   "source": [
    "---\n",
    "toc: true\n",
    "comments: false\n",
    "layout: post\n",
    "title: Sprint 4 Tech Talks\n",
    "permalink: /sprint4techtalk/\n",
    "type: ccc\n",
    "---\n",
    "description: Quick launch into Flask, sending and receiving data from a web server.\n",
    "courses: { csp: {week: 14 } }\n"
   ]
  },
  {
   "cell_type": "markdown",
   "metadata": {},
   "source": [
    "## 12/10\n",
    "blueprints a file organization technique\n",
    "\n",
    "\n",
    "``` python\n",
    "from flask import Blueprint\n",
    "from flask_restful import Api, Resource # used for REST API building\n",
    "\n",
    "student_api = Blueprint('student_api', __name__,\n",
    "                   url_prefix='/api')\n",
    "\n",
    "# API docs https://flask-restful.readthedocs.io/en/latest/\n",
    "api = Api(student_api)\n",
    "\n",
    "class StudentAPI:        \n",
    "    class _John(Resource): \n",
    "        def get(self):\n",
    "           # implement the get method \n",
    "           pass\n",
    "    \n",
    "    class _Jeff(Resource): \n",
    "        def get(self):\n",
    "           # implement the get method \n",
    "           pass\n",
    "\n",
    "    # building RESTapi endpoint\n",
    "    api.add_resource(_John, '/student/john')          \n",
    "    api.add_resource(_Jeff, '/student/jeff')\n",
    "```"
   ]
  }
 ],
 "metadata": {
  "language_info": {
   "name": "python"
  }
 },
 "nbformat": 4,
 "nbformat_minor": 2
}
