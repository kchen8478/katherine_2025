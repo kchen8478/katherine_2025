{
 "cells": [
  {
   "cell_type": "raw",
   "metadata": {
    "vscode": {
     "languageId": "raw"
    }
   },
   "source": [
    "---\n",
    "toc: true\n",
    "comments: false\n",
    "layout: post\n",
    "title: Sprint 4 Tech Talks\n",
    "permalink: /sprint4techtalk/\n",
    "type: ccc\n",
    "---\n",
    "description: Quick launch into Flask, sending and receiving data from a web server.\n",
    "courses: { csp: {week: 14 } }\n"
   ]
  },
  {
   "cell_type": "markdown",
   "metadata": {},
   "source": [
    "## 12/10\n",
    "Little Server / Big Server.   I will go over these in class today.  The struggle is great for many transitioning from my Jupyter Notebook to making an API in the big system.   I suggest the following progressive steps ...\n",
    "Make a Little Server (app.py).  Place it at the root of the project, same level as main.py.   Runt the app.py as its own server and port.   This should be a direct copy minus %%python magic command.   Do a live share make several endpoints and functions named after each group member (ie /api/john).   I suggest doing Live Share session, thus avoiding merge conflicts.   Get this running and then test from Browser and Jupyter notebooks.   Be sure to make a review ticket for this item and remember your process.\n",
    "Big Server step.   Try to make an API in the big system, using the big system style of code for API's.   This will require that you start a new file in the api directory of the project.   The file will use \"blueprint\" style of coding and needs to be registered in main.py to become visible in the big project.  Below is a template you could Live Share that uses a different technique for making a restful API.   Return dictionary  for each person, return a list of persons.\n",
    "Big Server with database step.   This would be the next step.   This is pretty much implemented for users of the system using user.py.\n",
    "FYI, these changes can stay in you repository and will have no impact on other functionality.    Be sure to document process as you go, as this is as much about the process as the code.  In this activity, you should be ultimately thinking of how to build the following features:  User Profile, Admins of System, Users of System, About page for Creators, Blog page for supporting users and contacting creators, etc\n",
    "\n",
    "* blueprints a file organization technique\n",
    "\n",
    "\n",
    "``` python\n",
    "from flask import Blueprint\n",
    "from flask_restful import Api, Resource # used for REST API building\n",
    "\n",
    "student_api = Blueprint('student_api', __name__,\n",
    "                   url_prefix='/api')\n",
    "\n",
    "# API docs https://flask-restful.readthedocs.io/en/latest/\n",
    "api = Api(student_api)\n",
    "\n",
    "class StudentAPI:        \n",
    "    class _John(Resource): \n",
    "        def get(self):\n",
    "           # implement the get method \n",
    "           pass\n",
    "    \n",
    "    class _Jeff(Resource): \n",
    "        def get(self):\n",
    "           # implement the get method \n",
    "           pass\n",
    "\n",
    "    # building RESTapi endpoint\n",
    "    api.add_resource(_John, '/student/john')          \n",
    "    api.add_resource(_Jeff, '/student/jeff')\n",
    "```"
   ]
  }
 ],
 "metadata": {
  "language_info": {
   "name": "python"
  }
 },
 "nbformat": 4,
 "nbformat_minor": 2
}
