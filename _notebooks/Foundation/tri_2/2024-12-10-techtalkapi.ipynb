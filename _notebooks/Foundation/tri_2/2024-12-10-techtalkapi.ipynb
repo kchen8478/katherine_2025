{
 "cells": [
  {
   "cell_type": "raw",
   "metadata": {
    "vscode": {
     "languageId": "raw"
    }
   },
   "source": [
    "---\n",
    "toc: true\n",
    "comments: false\n",
    "layout: post\n",
    "title: Tech Talks\n",
    "permalink: /techtalk/\n",
    "type: ccc\n",
    "---"
   ]
  },
  {
   "cell_type": "markdown",
   "metadata": {},
   "source": [
    "## 3/14 ML | Titanic Data\n",
    "Everything above predicted survival is making the model\n",
    "Everything below predicted survival is us giving inputs (e.g. asking chatgpt) and getting a response from the model "
   ]
  },
  {
   "cell_type": "markdown",
   "metadata": {},
   "source": [
    "## 3/13 PPR Review\n",
    "No comments\n",
    "Correct convention (e.g. camelcase vs pascalcase)\n",
    "Use chatgpt for explainations \n",
    "be clear with were and what the variables are and where it's being used "
   ]
  },
  {
   "cell_type": "markdown",
   "metadata": {},
   "source": [
    "## 3/12\n",
    "Data Frames | Pandas | Intro 1\n",
    "\n",
    "Data Frames - like a table, spreasheet, etc \n",
    "DF = smth, DF = data frame"
   ]
  },
  {
   "cell_type": "markdown",
   "metadata": {},
   "source": [
    "## 1/28\n",
    "AWS Deployment\n",
    "\n",
    "Port: 85 (table number, 05) - for your team\n"
   ]
  },
  {
   "cell_type": "markdown",
   "metadata": {},
   "source": [
    "## 1/14\n",
    "Requestion API Responee\n",
    "\n",
    "Backend handles API, responses and requests by frontend \n",
    "CRUD: \n",
    "- Create: Adds new data to a database\n",
    "- Read: Retrieves data from a database\n",
    "- Update: Changes existing data in a database\n",
    "- Delete: Removes data from a database\n",
    "\n",
    "Restful apis used 204 for no content usually \n",
    "\n",
    "##### HTML 5 TABLE\n",
    "<table>\n",
    "    <tr>\n",
    "        <th><label for=\"name\">Name</label></th>\n",
    "        <th><label for=\"email\">Email</label></th>\n",
    "        <th><label for=\"password\">Password</label></th>\n",
    "        <th><label for=\"phone\">Phone</label></th>\n",
    "    </tr>\n",
    "    <tr>\n",
    "        <td><input type=\"text\" name=\"name\" id=\"name\" required></td>\n",
    "        <td><input type=\"email\" name=\"email\" id=\"email\" placeholder=\"abc@xyz.org\" required></td>\n",
    "        <td><input type=\"password\" name=\"password\" id=\"password\" required></td>\n",
    "        <td><input type=\"tel\" name=\"phone_num\" id=\"phone_num\"\n",
    "            pattern=\"[0-9]{3}-[0-9]{3}-[0-9]{4}\"\n",
    "            placeholder=\"999-999-9999\"></td>\n",
    "        <td ><button onclick=\"create_User()\">Create</button></td>\n",
    "    </tr>\n",
    "</table>\n",
    "\n",
    "##### HTML 5 FORM\n",
    "<form action=\"create_User()\">\n",
    "    <p><label>\n",
    "        Name:\n",
    "        <input type=\"text\" name=\"name\" id=\"name\" required>\n",
    "    </label></p>\n",
    "    <p><label>\n",
    "        User ID:\n",
    "        <input type=\"text\" name=\"uid\" id=\"uid\" required>\n",
    "    </label></p>\n",
    "    <p><label>\n",
    "        Password:\n",
    "        <input type=\"password\" name=\"password\" id=\"password\" required>\n",
    "        Verify Password:\n",
    "        <input type=\"password\" name=\"passwordV\" id=\"passwordV\" required>\n",
    "    </label></p>\n",
    "    <p><label>\n",
    "        Phone:\n",
    "        <input type=\"tel\" name=\"phone_num\" id=\"phone_num\"\n",
    "            pattern=\"[0-9]{3}-[0-9]{3}-[0-9]{4}\"\n",
    "            placeholder=\"999-999-9999\">\n",
    "    </label></p>\n",
    "    <p><label>\n",
    "        Birthday:\n",
    "        <input type=\"date\" name=\"dob\" id=\"dob\">\n",
    "    </label></p>\n",
    "    <p>\n",
    "        <button>Create</button>\n",
    "    </p>\n",
    "</form>"
   ]
  },
  {
   "cell_type": "markdown",
   "metadata": {},
   "source": [
    "## 1/8\n",
    "SQL Alchemy (not SQL Connect - won't be learning object oriented programming, will have collaboration difficulty.)\n",
    "app = Flask(__name__)   <- not needed\n",
    "\n",
    "code is put in classes to keep it away from the other code and encapsulate it. \n",
    "\n",
    "table inside database, like a supercharged spreadsheet\n",
    "\n",
    "user_management.db\n",
    "\n",
    "the class in user.py is a template, and this ' def __init__(self, name, uid, password=\"123qwerty\", dob=datetime.today()):\n",
    "        self._name = name    # variables with self prefix become part of the object, \n",
    "        self._uid = uid\n",
    "        self.set_password(password)\n",
    "        if isinstance(dob, str):  # not a date type     \n",
    "            dob = date=datetime.today()\n",
    "        self._dob = dob' makes an instance\n",
    "\n",
    "init method allows"
   ]
  },
  {
   "cell_type": "markdown",
   "metadata": {},
   "source": [
    "## 12/10\n",
    "Little Server / Big Server.   I will go over these in class today.  The struggle is great for many transitioning from my Jupyter Notebook to making an API in the big system.   I suggest the following progressive steps ...\n",
    "Make a Little Server (app.py).  Place it at the root of the project, same level as main.py.   Runt the app.py as its own server and port.   This should be a direct copy minus %%python magic command.   Do a live share make several endpoints and functions named after each group member (ie /api/john).   I suggest doing Live Share session, thus avoiding merge conflicts.   Get this running and then test from Browser and Jupyter notebooks.   Be sure to make a review ticket for this item and remember your process.\n",
    "Big Server step.   Try to make an API in the big system, using the big system style of code for API's.   This will require that you start a new file in the api directory of the project.   The file will use \"blueprint\" style of coding and needs to be registered in main.py to become visible in the big project.  Below is a template you could Live Share that uses a different technique for making a restful API.   Return dictionary  for each person, return a list of persons.\n",
    "Big Server with database step.   This would be the next step.   This is pretty much implemented for users of the system using user.py.\n",
    "FYI, these changes can stay in you repository and will have no impact on other functionality.    Be sure to document process as you go, as this is as much about the process as the code.  In this activity, you should be ultimately thinking of how to build the following features:  User Profile, Admins of System, Users of System, About page for Creators, Blog page for supporting users and contacting creators, etc\n",
    "\n",
    "* blueprints a file organization technique\n",
    "\n",
    "\n",
    "``` python\n",
    "from flask import Blueprint\n",
    "from flask_restful import Api, Resource # used for REST API building\n",
    "\n",
    "student_api = Blueprint('student_api', __name__,\n",
    "                   url_prefix='/api')\n",
    "\n",
    "# API docs https://flask-restful.readthedocs.io/en/latest/\n",
    "api = Api(student_api)\n",
    "\n",
    "class StudentAPI:        \n",
    "    class _John(Resource): \n",
    "        def get(self):\n",
    "           # implement the get method \n",
    "           pass\n",
    "    \n",
    "    class _Jeff(Resource): \n",
    "        def get(self):\n",
    "           # implement the get method \n",
    "           pass\n",
    "\n",
    "    # building RESTapi endpoint\n",
    "    api.add_resource(_John, '/student/john')          \n",
    "    api.add_resource(_Jeff, '/student/jeff')\n",
    "```"
   ]
  }
 ],
 "metadata": {
  "language_info": {
   "name": "python"
  }
 },
 "nbformat": 4,
 "nbformat_minor": 2
}
