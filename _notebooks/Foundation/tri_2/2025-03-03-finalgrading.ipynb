{
 "cells": [
  {
   "cell_type": "code",
   "execution_count": null,
   "metadata": {
    "vscode": {
     "languageId": "plaintext"
    }
   },
   "outputs": [],
   "source": [
    "---\n",
    "toc: true\n",
    "comments: false\n",
    "layout: post\n",
    "title: Final - Self Grade + Reflection\n",
    "permalink: /notebooks/tri_2/finalgrading/\n",
    "type: ccc\n",
    "---"
   ]
  },
  {
   "cell_type": "markdown",
   "metadata": {},
   "source": [
    "Self-Grading \n",
    "\n",
    "| Criteria                | Grade | Points | Explaination |\n",
    "|---------------------------------|--------------|------------|------------------------|\n",
    "| 5 things in 12 weeks   | 4.90 | 5 | Over the past 12 weeks, I have learned a lot. I have worked hard to in learning the material, asking for help when I need it, and being concious in my class activites. |\n",
    "| Full Stack Project Demo (CPT Requirements, N@tM)  | 1.90 | 2 | I know the CPT requirements well, and I understand the content. My code fulfills all of the CPT requirements thoroughly, often several times. I did get feedback from several people, but I think that there is a lot more for me to learn and to develop my knowledge.  |\n",
    "| Project Feature blog Write-up   | 1 | 1 | My write up is thorough and detailed, and it contributes both to my and my groups understanding. |\n",
    "| MCQ      | 0.8 | 1 | I completed the MRQ, but I didn't get a very high score on it. I did thoroughly review it to understand what I did wrong, and to ensure that doesn't happen again. |\n",
    "|10th Pt  | 0.5 | 1 | I DM'd 24 hours in advance, I completed a preliminary review with Ms. Pataki, and reflected on individual strengths, weaknesses and created next steps plans. |\n",
    "| Total        | 9.1 | 10 | 8.6+0.5 |"
   ]
  },
  {
   "cell_type": "markdown",
   "metadata": {},
   "source": [
    "\n",
    "---\n",
    "\n",
    "1. Planning: Learned the benefits of using agile methodology, kanban boards, and burndown lists. \n",
    "- [Project Kanban Board/Burndown](https://github.com/users/gabrielac07/projects/2/views/1)\n",
    "- [Figma Board](https://www.figma.com/board/ffwEjQVQMWAX5a4YbyKMuW/Bookworms-planning?node-id=0-1&p=f)\n",
    "- [Team Issue](https://github.com/nighthawkcoders/portfolio_2025/issues/621#issuecomment-2552405468)\n",
    "- [Individual Issue](https://github.com/kchen8478/katherine_2025/issues/11#issue-2749296295)\n",
    "\n",
    "2. Creating an API: Learning how to create API ednpoints with HTTP methods like POST, GET, PUT, and DELETE.\n",
    "- [Procedure](https://kchen8478.github.io/katherine_2025/notebooks/tri_2/final/#database--crud)\n",
    "2. Collaboration: Collaborating is the best way to expand on your soft skills and knowlodge. It allows for less mistakes, more ideas, better cohesion. \n",
    "3. Debugging: Learned how to use inspect on the browser, the benifits of debugging and jumping line by line to fix bugs. \n",
    "5. Deployment: Assisted Maryam in deployment blog and updating deployed site. Helped with registering of DNS name using Route53 in AWS, pulling backend when changes are made (docker-compose down, build, up, etc.).\n",
    "- <a href=\"https://gabrielac07.github.io/bookworms/deployment\" target=\"_blank\">Deployment blog</a>\n"
   ]
  },
  {
   "cell_type": "markdown",
   "metadata": {},
   "source": [
    "\n",
    "---\n",
    "\n",
    "Strengths\n",
    "- Problem solving: I learned over the course of how to debug and work around an issue, also improving my communication needs as well. \n",
    "- Growth mindest: I'm very eager to learn and improve. I'm proactive in developing new skills and continuously evolving. \n",
    "\n",
    "\n",
    "Weaknesses\n",
    "- Asking for help: It was rare for me to ask for help, especially from those outside my group. However, I did try to work on this by actively approaching others if needed. \n",
    "- Working together: Our group started really cohesively, but as split into our respective features, our collaboration decreased. Having stand-up meetings helped, as did using Slack, which helped us communicate outside of class.  "
   ]
  },
  {
   "cell_type": "markdown",
   "metadata": {},
   "source": [
    "\n",
    "---\n",
    "\n",
    "Overall Reflection:\n",
    "- In the past two trimesters, I learned the important of planning and documentation when starting and completing a project. I also acquired a lot of computer science knowledge, such as frontend to backend connectivity, RESTful APIs, and debugging. I do not plan on pursuing a career in computer science, but these skills such as problem solving, planning, and communication will help me in further education and the professional world. \n",
    "\n",
    "\n",
    "Next Steps\n",
    "- Project: I plan to continue to develop the UI and to add a few more HTTP endpoint methods for more options. \n",
    "- Skills: I will continue to improve on collaboration and communication with my group to ensure everyone is on the same page. I also plan to attend for office hours and talk to other groups more to improve my overall understand and also work on collaboration. "
   ]
  },
  {
   "cell_type": "markdown",
   "metadata": {},
   "source": [
    "CSP Task Video Notes:\n",
    "- 30% of grade (6 + 4 pts)\n",
    "- Personalized Project Reference (PPR) submitted w digital portfolio\n",
    "    - List being created, list being processes, function, call to function (NO COMMENTS)\n",
    "    - Program Design, Function, Purpose (identify user + how program meets needs of user)\n",
    "    - Algorithm Development (number of times iteration executs + conditions causing an infinite loop)\n",
    "    - Errors and Testing (change that'll result in run-time error (not compile error) + why)\n",
    "    - Data and Procedural Abstraction (algorithm that uses `isEqual` and counts occurrences)\n",
    "- 1 minute long - NO AUDIO NARRATION (programming running, not code)\n",
    "- PDF of entire code (CAN HAVE COMMENTS)\n",
    "\n",
    "\n",
    "[Video 1](https://www.youtube.com/watch?v=EuVXyqQ4N7c)\n",
    "[Video 2](https://www.youtube.com/watch?v=EdaPlqud5b0)\n"
   ]
  }
 ],
 "metadata": {
  "language_info": {
   "name": "python"
  }
 },
 "nbformat": 4,
 "nbformat_minor": 2
}
