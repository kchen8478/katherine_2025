{
 "cells": [
  {
   "cell_type": "raw",
   "metadata": {
    "vscode": {
     "languageId": "raw"
    }
   },
   "source": [
    "---\n",
    "toc: true\n",
    "comments: false\n",
    "layout: post\n",
    "title: Big Idea 1\n",
    "permalink: /notebooks/tri_2/bigidea1/\n",
    "type: ccc\n",
    "---"
   ]
  },
  {
   "cell_type": "markdown",
   "metadata": {},
   "source": [
    "collaborative development (Tri 1)\n",
    "\n",
    "standup meeting\n",
    "- what each person is submitting to collegeboard\n",
    "- \n",
    "\n",
    "assistant deployment admin (me :o)\n"
   ]
  }
 ],
 "metadata": {
  "language_info": {
   "name": "python"
  }
 },
 "nbformat": 4,
 "nbformat_minor": 2
}
