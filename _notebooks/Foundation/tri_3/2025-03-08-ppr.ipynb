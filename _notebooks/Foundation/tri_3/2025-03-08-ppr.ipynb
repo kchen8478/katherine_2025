{
 "cells": [
  {
   "cell_type": "raw",
   "metadata": {
    "vscode": {
     "languageId": "raw"
    }
   },
   "source": [
    "---\n",
    "toc: true\n",
    "comments: false\n",
    "layout: post\n",
    "title: Personalized Project Reference\n",
    "permalink: /notebooks/tri_3/ppr/\n",
    "type: ccc\n",
    "---"
   ]
  },
  {
   "cell_type": "markdown",
   "metadata": {},
   "source": [
    "<img src=\"{{site.baseurl}}/images/func1.png\"> \n",
    "<img src=\"{{site.baseurl}}/images/calltofunc1.png\"> \n",
    "<img src=\"{{site.baseurl}}/images/list.png\"> \n",
    "<img src=\"{{site.baseurl}}/images/listinuse.png\"> \n",
    "\n"
   ]
  }
 ],
 "metadata": {
  "language_info": {
   "name": "python"
  }
 },
 "nbformat": 4,
 "nbformat_minor": 2
}
