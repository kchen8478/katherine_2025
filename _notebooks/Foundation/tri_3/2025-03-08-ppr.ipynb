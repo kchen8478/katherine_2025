{
 "cells": [
  {
   "cell_type": "raw",
   "metadata": {
    "vscode": {
     "languageId": "raw"
    }
   },
   "source": [
    "---\n",
    "toc: true\n",
    "comments: false\n",
    "layout: post\n",
    "title: Personalized Project Reference\n",
    "permalink: /notebooks/tri_3/ppr/\n",
    "type: ccc\n",
    "---"
   ]
  },
  {
   "cell_type": "markdown",
   "metadata": {},
   "source": [
    "## List requests\n",
    "### Lists\n",
    "There are two rows created from this list as static data. Then the rows also correspond to columns - user_id, reaction_type, post_id. \n",
    "```python\n",
    "emotions = [\n",
    "        Emotion(user_id=1, reaction_type='😢', title_id=\"Catcher in the Rye\", author_id=\"J.D.\"),\n",
    "        Emotion(user_id=1, reaction_type='❤️', title_id=\"Hunger Games\", author_id=\"Suzanne Collins\")\n",
    "    ]\n",
    "```\n",
    "### Dictionaries\n",
    "There are three columns generated from dictionary - reaction_type, user_id, and post_id. These three columns \n",
    "```python\n",
    "return {\n",
    "        \"reaction_type\": self.reaction_type,\n",
    "        \"user_id\": self.user_id,\n",
    "        \"title_id\": self.title_id,\n",
    "        \"author_id\": self.author_id\n",
    "    }\n",
    "```"
   ]
  },
  {
   "cell_type": "markdown",
   "metadata": {},
   "source": [
    "\n",
    "---\n",
    "## Function:\n",
    "This procedure adds a reaction, and has several parameters, including `user_id`, `reaction_type`, `title_id`, and `author_id`.\n",
    "```python\n",
    "@emotion_api.route('', methods=['POST']) \n",
    "def add_emotion():\n",
    "    data = request.json\n",
    "\n",
    "    user_id = data.get(\"user_id\")\n",
    "    reaction_type = data.get(\"reaction_type\")\n",
    "    title_id = data.get(\"title_id\")\n",
    "    author_id = data.get(\"author_id\")\n",
    "\n",
    "    try:\n",
    "        # Create and add the message_reaction\n",
    "        message_emotion = Emotion(reaction_type=reaction_type, user_id=user_id, title_id=title_id, author_id=author_id)\n",
    "        message_emotion.create()\n",
    "        return jsonify({'message': 'Emotion added successfully to post'}), 201\n",
    "    except Exception as e:\n",
    "        return jsonify({'error': 'Failed to add emotion', 'message': str(e)}), 500\n",
    "```\n",
    "---\n",
    "\n",
    "## Call to Function\n",
    "```javascript\n",
    "document.getElementById('addEmotionForm').addEventListener('submit', async (e) => {\n",
    "    e.preventDefault();\n",
    "\n",
    "    const userId = document.getElementById('userId').value;\n",
    "    const bookDropdown = document.getElementById('bookDropdown');\n",
    "    const selectedOption = bookDropdown.options[bookDropdown.selectedIndex];\n",
    "\n",
    "    if (!selectedOption.value) {\n",
    "        showStatusMessage('Please select a book.', false);\n",
    "        return;\n",
    "    }\n",
    "\n",
    "    const bookData = JSON.parse(selectedOption.value);\n",
    "    const reactionType = document.getElementById('addReactionType').value;\n",
    "\n",
    "    try {\n",
    "        // Step 4: Send request to add emotion\n",
    "        const response = await fetch(`${pythonURI}/api/emotion`, {\n",
    "            method: 'POST',\n",
    "            headers: { 'Content-Type': 'application/json' },\n",
    "            body: JSON.stringify({\n",
    "                user_id: userId,\n",
    "                title_id: bookData.id,\n",
    "                author_id: bookData.author,\n",
    "                reaction_type: reactionType,\n",
    "            }),\n",
    "        });\n",
    "\n",
    "        if (!response.ok) throw new Error(await response.text());\n",
    "\n",
    "        // Step 5: Update UI after successful API response\n",
    "        displayAddedEmotion(bookData.id, bookData.title, bookData.author, reactionType);\n",
    "        showStatusMessage('Emotion successfully added!');\n",
    "    } catch (error) {\n",
    "        showStatusMessage(`Failed to add emotion: ${error.message}`, false);\n",
    "    }\n",
    "});\n",
    "```"
   ]
  },
  {
   "cell_type": "markdown",
   "metadata": {},
   "source": [
    "\n",
    "---\n",
    "\n",
    "# **Project Demo:**\n",
    "<a href=\"{{site.baseurl}}/notebooks/tri_2/fullstackcrudrev/\"> PPR </a>\n",
    "\n",
    "The purpose of my feature was to allow users react to books with emojis to show if the book made them feel happy, sad, etc. This is not as quick as a rating, but not quite a review, instead it just allows readers to express how the book made them feel in a simple manner. The program retrieves data from a **backend API** and displays it in an **interactive UI**. Users can:\n",
    "- Add new items using an input field with an emoji selection feature.\n",
    "- Update existing items by modifying their content and saving changes.\n",
    "- Delete items when they are no longer needed.\n",
    "- The UI dynamically updates based on user actions without requiring a page reload.\n",
    "\n",
    "A combination of event listeners and API calls **(GET, POST, PUT, DELETE)** ensures that the frontend remains synchronized with the backend.\n",
    "\n",
    "My project fulfills the CPT requirements of **selection and iteration when adding reaction and updating reactions**. When users delete a reaction, a **for loop iterates through the existing reactions in the database**. My code includes both **inputs and outputs** for when users add reactions, update reactions, etc. \n",
    "\n"
   ]
  }
 ],
 "metadata": {
  "language_info": {
   "name": "python"
  }
 },
 "nbformat": 4,
 "nbformat_minor": 2
}
