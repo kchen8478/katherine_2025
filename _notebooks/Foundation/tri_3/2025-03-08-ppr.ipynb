{
 "cells": [
  {
   "cell_type": "raw",
   "metadata": {
    "vscode": {
     "languageId": "raw"
    }
   },
   "source": [
    "---\n",
    "toc: true\n",
    "comments: false\n",
    "layout: post\n",
    "title: Personalized Project Reference\n",
    "permalink: /notebooks/tri_3/ppr/\n",
    "type: ccc\n",
    "---"
   ]
  },
  {
   "cell_type": "markdown",
   "metadata": {},
   "source": [
    "<img src=\"{{site.baseurl}}/images/func1.png\"> \n",
    "\n",
    "- Meets the requirements because:\n",
    "    - It defines a function get_emotion that returns book-related emotions.\n",
    "    - It takes a parameter (title_id) that affects functionality.\n",
    "    - It implements sequencing (fetching emotions), selection (error handling with try-except), and iteration (for loop to process emotions).\n",
    "\n",
    "---\n",
    "\n",
    "<img src=\"{{site.baseurl}}/images/calltofunc1.png\"> \n",
    "\n",
    "- Meets the requirements because:\n",
    "    - It calls the get_emotion function when the “Fetch Emotions” button is clicked.\n",
    "    - It uses the selected book’s titleId as an argument.\n",
    "    - It handles errors and updates the UI dynamically.\n",
    "\n",
    "---\n",
    "\n",
    "<img src=\"{{site.baseurl}}/images/list.png\"> \n",
    "\n",
    "- Meets the requirements because:\n",
    "    - It defines a list named emotions containing multiple Emotion objects.\n",
    "    - Each item in the list represents a reaction to a book.\n",
    "\n",
    "---\n",
    "\n",
    "<img src=\"{{site.baseurl}}/images/listinuse.png\"> \n",
    "\n",
    "- Meets the requirements because:\n",
    "    - It calls initEmotion(), which uses the emotions list.\n",
    "    - It ensures all initial data, including emotions, is loaded properly.\n",
    "\n",
    "---\n",
    "\n",
    "https://apcentral.collegeboard.org/media/pdf/ap-computer-science-principles-course-and-exam-description.pdf \n"
   ]
  }
 ],
 "metadata": {
  "language_info": {
   "name": "python"
  }
 },
 "nbformat": 4,
 "nbformat_minor": 2
}
