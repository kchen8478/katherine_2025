{
 "cells": [
  {
   "cell_type": "raw",
   "metadata": {
    "vscode": {
     "languageId": "raw"
    }
   },
   "source": [
    "---\n",
    "toc: true\n",
    "comments: false\n",
    "layout: post\n",
    "categories: [AP Exam]\n",
    "title: MCQ 2021\n",
    "permalink: /notebooks/tri_3/mcq21/\n",
    "type: ccc\n",
    "---"
   ]
  },
  {
   "cell_type": "markdown",
   "metadata": {},
   "source": [
    "# Score: \n",
    "65/70\n",
    "\n",
    "# Time:\n",
    "01:19:54\n",
    "(2 hour limit)\n",
    "\n",
    "# Skill Breakdown\n",
    "<img src=\"{{site.baseurl}}/images/topics.png\"> \n"
   ]
  },
  {
   "cell_type": "markdown",
   "metadata": {},
   "source": [
    "# Corrections:\n",
    "### Q26:\n",
    "<img src=\"{{site.baseurl}}/images/mcq21(1).png\"> \n",
    "A: The efficiency of a parallel computing solution is limited by the sequential portion of the solution. If each step is dependent on the preceding step, then each step must wait for the previous step to complete before executing. Therefore, the solution is completely sequential and does not benefit from parallel computing.\n",
    "\n",
    "### Q32:\n",
    "<img src=\"{{site.baseurl}}/images/mcq21(2).png\"> \n",
    "A: Public-key encryption is considered a secure way of encoding data to prevent unauthorized access.\n",
    "\n",
    "### Q44:\n",
    "<img src=\"{{site.baseurl}}/images/mcq21(3).png\"> \n",
    "B: The fixed number of bits used to represent real numbers limits the range of these values; this limitation can result in round-off errors. Round-off errors typically result in imprecise values or results.\n",
    "\n",
    "### Q51:\n",
    "<img src=\"{{site.baseurl}}/images/mcq21(4).png\"> \n",
    "A: Citizen science is scientific research conducted in whole or part by distributed individuals, many of whom may not be scientists, who contribute relevant data to research using their own computing devices. This project would benefit from using a citizen science model for gathering photographs of birds from amateur photographers around the world.\n",
    "\n",
    "### Q55:\n",
    "<img src=\"{{site.baseurl}}/images/mcq21(5).png\"> \n",
    "C: This code segment assigns the value of the last element of the list to the variable temp, then removes the last element of the list, then inserts temp as the first element of the list.\n",
    "\n",
    "# Things to Review\n",
    "2.1 Binary Numbers\n",
    "\n",
    "3.10 <a href=\"{{site.baseurl}}/bigideas/three/ten\">Lists</a>\n",
    "\n",
    "4.3 Parallel and Distributed Computing\n",
    "\n",
    "5.4 [Crowdsourcing](https://kchen8478.github.io/katherine_2025/notebooks/tri_3/bigidea/bigideafive/#crowdsourcing)\n",
    "\n",
    "5.6 [Safe Computing](https://kchen8478.github.io/katherine_2025/notebooks/tri_3/bigidea/bigideafive/#safe-computing)"
   ]
  },
  {
   "cell_type": "markdown",
   "metadata": {},
   "source": [
    "<!-- looked at answer/fixed: 7, 14, 15, 22, 33, 43, 46, 47, 53, 55, 63, 66, 67, 68, 70 -->"
   ]
  }
 ],
 "metadata": {
  "language_info": {
   "name": "python"
  }
 },
 "nbformat": 4,
 "nbformat_minor": 2
}
