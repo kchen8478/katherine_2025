{
 "cells": [
  {
   "cell_type": "raw",
   "metadata": {
    "vscode": {
     "languageId": "raw"
    }
   },
   "source": [
    "---\n",
    "toc: true\n",
    "comments: false\n",
    "layout: post\n",
    "categories: [AP Exam]\n",
    "title: Study Plan\n",
    "permalink: /notebooks/tri_3/studyplan/\n",
    "type: ccc\n",
    "---"
   ]
  },
  {
   "cell_type": "markdown",
   "metadata": {},
   "source": [
    "{%include nav/bigideas_three.html %} \n",
    "\n",
    "<a href=\"{{site.baseurl}}/notebooks/tri_3/bigidea/bigideathree/\">Big Idea 3</a>\n",
    "\n",
    "<a href=\"{{site.baseurl}}/notebooks/tri_3/bigidea/bigideafive/\">Big Idea 5</a>\n",
    "\n",
    "<iframe width=\"560\" height=\"315\" src=\"https://www.youtube.com/embed/videoseries?si=iuVS3Qw6P3j0seEy&amp;list=PLCop1CJJCr42puX0jPvpbRk1jswOKdybV\" title=\"YouTube video player\" frameborder=\"0\" allow=\"accelerometer; autoplay; clipboard-write; encrypted-media; gyroscope; picture-in-picture; web-share\" referrerpolicy=\"strict-origin-when-cross-origin\" allowfullscreen></iframe>"
   ]
  },
  {
   "cell_type": "markdown",
   "metadata": {},
   "source": [
    "### April–May 2025 Calendar\n",
    "\n",
    "| Week      | Mon      | Tue      | Wed      | Thu      | Fri      | Sat      | Sun      |\n",
    "|-----------|----------|----------|----------|----------|----------|----------|----------|\n",
    "| Apr 21–27 | 21       | 22       | **23** Review       | 24       | 25       | 26 MCQ      | 27 Sumbit CPT      |\n",
    "| Apr 28–May 4 | 28    | 29       | 30       | May 1    | 2        | 3 Review Lessons       | 4 FRQ Review       |\n",
    "| May 5–11  | 5        | 6        | 7        | 8        | 9        | 10 MCQ      | 11 Review Lessons      |\n",
    "| May 12–18 | 12       | 13       | 14       | **15** AP Exam      |       |        |       |"
   ]
  }
 ],
 "metadata": {
  "language_info": {
   "name": "python"
  }
 },
 "nbformat": 4,
 "nbformat_minor": 2
}
