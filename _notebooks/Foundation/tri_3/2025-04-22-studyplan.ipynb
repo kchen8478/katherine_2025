{
 "cells": [
  {
   "cell_type": "raw",
   "metadata": {
    "vscode": {
     "languageId": "raw"
    }
   },
   "source": [
    "---\n",
    "toc: true\n",
    "comments: false\n",
    "layout: post\n",
    "categories: [AP Exam]\n",
    "title: Study Plan\n",
    "permalink: /notebooks/tri_3/studyplan/\n",
    "type: ccc\n",
    "---"
   ]
  },
  {
   "cell_type": "markdown",
   "metadata": {},
   "source": [
    "{%include nav/bigideas_three.html %} \n",
    "\n",
    "<a href=\"{{site.baseurl}}/notebooks/tri_3/bigidea/bigideathree/\">Big Idea 3</a>\n",
    "\n",
    "<a href=\"{{site.baseurl}}/notebooks/tri_3/bigidea/bigideafive/\">Big Idea 5</a>\n",
    "\n",
    "<iframe width=\"560\" height=\"315\" src=\"https://www.youtube.com/embed/videoseries?si=iuVS3Qw6P3j0seEy&amp;list=PLCop1CJJCr42puX0jPvpbRk1jswOKdybV\" title=\"YouTube video player\" frameborder=\"0\" allow=\"accelerometer; autoplay; clipboard-write; encrypted-media; gyroscope; picture-in-picture; web-share\" referrerpolicy=\"strict-origin-when-cross-origin\" allowfullscreen></iframe>"
   ]
  }
 ],
 "metadata": {
  "language_info": {
   "name": "python"
  }
 },
 "nbformat": 4,
 "nbformat_minor": 2
}
