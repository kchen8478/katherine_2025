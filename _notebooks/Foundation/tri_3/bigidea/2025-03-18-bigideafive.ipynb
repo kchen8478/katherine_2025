{
 "cells": [
  {
   "cell_type": "raw",
   "metadata": {
    "vscode": {
     "languageId": "raw"
    }
   },
   "source": [
    "---\n",
    "toc: true\n",
    "comments: false\n",
    "layout: post\n",
    "title: Big Idea 5\n",
    "permalink: /notebooks/tri_3/bigidea/bigideafive/\n",
    "type: ccc\n",
    "---"
   ]
  },
  {
   "cell_type": "markdown",
   "metadata": {},
   "source": [
    "# Beneficial and Harmful Effects\n",
    "[link](https://prajnar123123213.github.io/teaching_frontend/teaching/)\n",
    "\n",
    "**Beneficial effects:** the result of advancements in communication, commerce, and programming E.g. Baymax\n",
    "- Automated telephone tree, more efficient, saves money\n",
    "- Science + Tech, MRI scanning, DNA sequencing, developing vaccines\n",
    "- Access of Education, online encyclopedias, access to databases, browers\n",
    "\n",
    "**Harmful effects:** he potential misuse or dilemma that may come with developing technology E.g.\n",
    "- Unsafe use + Cyberbullying, kids being exposed to innappropriate schenarios, they can face harsh words\n",
    "- Social Media: many get bullied or experienced things leading to lowered self esteem, some commit suicide, others take on viral trends which can be dangereous\n",
    "- Blindly trusting computers: e.g. trolly problem\n",
    "\n",
    "**Neutral effects:** things that could be both beneficial or harmful\n",
    "- AI: ethics are debatable\n",
    "    - Easy to use, helps with learning, increased productivity\n",
    "    - Analyze data, help in healthcare\n",
    "    - Contributes to climate change and global warming to power ChatGPT\n",
    "    - deteriorates students' critical thinking\n",
    "- UAVs/Drones\n",
    "    - efficent way to spread pesticide\n",
    "    - violation of privacy\n",
    "    - back control leads to crashes into power lines\n",
    "    - use in military/warfare\n",
    "    - good camera to see things in the distance\n",
    "- Gene Editing\n",
    "    - helps scientists figure out how to treat genetic disease\n",
    "    - make crops resistant and more yield\n",
    "    - can cause fetal damages, can affect future generations\n",
    "    - when unregulated, can be used in harmful, cruel ways\n",
    "\n",
    "## Homework:\n",
    "Based on the brainstorming you did during the lesson, pick a beneficial or harmful effect and in 5 sentences fully explain why you think this topic is beneficial of harmful?\n",
    "- One harmful effect of technology is cyberbullying on social media. Many children and teenagers are exposed to harmful messages, harassment, and inappropriate content, which can severely impact their mental health. Victims of cyberbullying often experience anxiety, depression, and low self-esteem, and in extreme cases, it has led to self-harm or suicide. Additionally, viral challenges and trends can be dangerous, encouraging reckless behavior that puts young people at risk. While social media can connect people, its misuse can lead to devastating consequences, making it a significant harmful effect of modern technology.\n",
    "\n"
   ]
  }
 ],
 "metadata": {
  "language_info": {
   "name": "python"
  }
 },
 "nbformat": 4,
 "nbformat_minor": 2
}
