{
 "cells": [
  {
   "cell_type": "raw",
   "metadata": {
    "vscode": {
     "languageId": "raw"
    }
   },
   "source": [
    "---\n",
    "toc: true\n",
    "comments: false\n",
    "layout: post\n",
    "title: Big Idea 5\n",
    "permalink: /notebooks/tri_3/bigidea/bigideafive/\n",
    "type: ccc\n",
    "---"
   ]
  },
  {
   "cell_type": "markdown",
   "metadata": {},
   "source": [
    "# Beneficial and Harmful Effects\n",
    "[link](https://prajnar123123213.github.io/teaching_frontend/teaching/)\n",
    "\n",
    "**Beneficial effects:** the result of advancements in communication, commerce, and programming E.g. Baymax\n",
    "- Automated telephone tree, more efficient, saves money\n",
    "- Science + Tech, MRI scanning, DNA sequencing, developing vaccines\n",
    "- Access of Education, online encyclopedias, access to databases, browers\n",
    "\n",
    "**Harmful effects:** the potential misuse or dilemma that may come with developing technology E.g.\n",
    "- Unsafe use + Cyberbullying, kids being exposed to innappropriate schenarios, they can face harsh words\n",
    "- Social Media: many get bullied or experienced things leading to lowered self esteem, some commit suicide, others take on viral trends which can be dangereous\n",
    "- Blindly trusting computers: e.g. trolly problem\n",
    "\n",
    "**Neutral effects:** things that could be both beneficial or harmful\n",
    "- AI: ethics are debatable\n",
    "    - Easy to use, helps with learning, increased productivity\n",
    "    - Analyze data, help in healthcare\n",
    "    - Contributes to climate change and global warming to power ChatGPT\n",
    "    - deteriorates students' critical thinking\n",
    "- UAVs/Drones\n",
    "    - efficent way to spread pesticide\n",
    "    - violation of privacy\n",
    "    - back control leads to crashes into power lines\n",
    "    - use in military/warfare\n",
    "    - good camera to see things in the distance\n",
    "- Gene Editing\n",
    "    - helps scientists figure out how to treat genetic disease\n",
    "    - make crops resistant and more yield\n",
    "    - can cause fetal damages, can affect future generations\n",
    "    - when unregulated, can be used in harmful, cruel ways\n",
    "## Popcorn Hack 1: \n",
    "Something that leads to further advancements in life and society. Something that is missued or unethically used, leading to difficulties. \n",
    "\n",
    "## Popcorn Hack 2: \n",
    "Science and Technology might be the most impactful because it directly improves health and longevity. Medical advancements like MRI scans, DNA sequencing, and vaccines have saved millions of lives and continue to enhance healthcare. Additional beneficial effects of technology include remote work & communication; tools like Zoom and Slack allow people to work from anywhere, increasing flexibility.\n",
    "\n",
    "## Popcorn Hack 3:\n",
    "I think Artificial Intelligence is a dilemma that leans more toward being beneficial because AI can analyze massive datasets, automate repetitive tasks, and provide quick answers, saving time and resources for businesses, students, and professionals. AI helps diagnose diseases, monitor patients, and even assist in drug discovery, improving medical outcomes. And, AI tools can support students in understanding complex topics, improving accessibility for those with learning disabilities.\n",
    "\n",
    "## Homework:\n",
    "Based on the brainstorming you did during the lesson, pick a beneficial or harmful effect and in 5 sentences fully explain why you think this topic is beneficial of harmful?\n",
    "- One harmful effect of technology is cyberbullying on social media. Many children and teenagers are exposed to harmful messages, harassment, and inappropriate content, which can severely impact their mental health. Victims of cyberbullying often experience anxiety, depression, and low self-esteem, and in extreme cases, it has led to self-harm or suicide. Additionally, viral challenges and trends can be dangerous, encouraging reckless behavior that puts young people at risk. While social media can connect people, its misuse can lead to devastating consequences, making it a significant harmful effect of modern technology.\n",
    "\n"
   ]
  },
  {
   "cell_type": "markdown",
   "metadata": {},
   "source": [
    "---"
   ]
  },
  {
   "cell_type": "markdown",
   "metadata": {},
   "source": [
    "# Digital Divide\n",
    "[link](https://martijorbam.github.io/bi5_digitaldivide/csp%20big%20idea%205/2025/03/18/digdivide_IPYNB_2_.html)\n",
    "\n",
    "The digital divide significantly impacts students’ educational opportunities, particularly affecting those without reliable internet access. Addressing these disparities is crucial for ensuring equitable futures.\n",
    "\n",
    "**Importance of Technology Access:** Education - Online learning, research, assignments, Employment - Job searching, remote work, skill training, Healthcare - Telemedicine, health information, online appointments, Community Participation - Civic engagement, social connection, community resources\n",
    "\n",
    "**Weak Infrastruction:** developing nations -  internet infrastructure is limited or nonexistent, causing entire communities to remain offline\n",
    "\n",
    "**Ethical and Societal Concerns:** \n",
    "- Fairness - eneryone derserse access\n",
    "- Social Justice - technology gaps in marginal communities creates disadvantages\n",
    "- Responsibility - should be a community wide thing\n",
    "\n",
    "**Solutions to Bridge the Divide**\n",
    "- subsidize devices and internet costs\n",
    "- offer government funded programs\n",
    "- improved infrastructure\n",
    "- inclusive technologies for those with disabilities\n",
    "- public policies for digital equity\n",
    "\n",
    "\n",
    "## Homework \n",
    "Write 5 sentences describing what you have noticed about the digital divide in your own community. Consider how socioeconomic factors, location, and access to technology may play a role. Then explain how you can personally help bridge this gap—perhaps through awareness, advocating for policy changes, or supporting community-based tech programs. Make sure each sentence provides a clear insight or action step. Submit your 5 sentences in the next class.\n",
    "- In my community, I’ve noticed that students from lower-income households often struggle with completing online assignments due to unreliable internet access or a lack of personal devices. Rural areas face connectivity challenges, making remote learning and telemedicine difficult for many families who rely on these services. Public libraries and community centers provide internet access, but they often have limited hours, making it hard for students and job seekers to use them effectively. I can help bridge this gap by advocating for local government initiatives that provide subsidized internet access and devices to underprivileged students. Additionally, I can volunteer with local organizations that teach digital literacy skills, ensuring that more people in my community can benefit from available technology."
   ]
  },
  {
   "cell_type": "markdown",
   "metadata": {},
   "source": [
    "# Computing Bias\n",
    "Occurs because of\n",
    "- historical biases\n",
    "- flawed data\n",
    "\n",
    "\n",
    "Explicit vs Implitict Data\n",
    "- explicit: data that the user directly provides e.g. name\n",
    "- implitict: based on the data, impliciations are made e.g. watch recommendations\n",
    "\n",
    "Types of Bias:\n",
    "- Algorithmic bias: bias created by faulty or ___ data e.g. when AI is trained with a biased data set -> biased results\n",
    "- Data bias: data contains errors or incomplete information, unequal representation \n",
    "- Cognative bias: decisions and judgements tied to ur bias, someone's own bias is introduced into their data, aka confirmation bias \n",
    "- \n",
    "\n",
    "Sometimes bias is good - e.g. going to speak at a DNC or RNC. \n",
    "\n",
    "Intentional bias - the deliberate inftroduction of bias into algorithms \n",
    "Unintentional bias - when algorithms r trained on flawed or incomplete data -> bias, but it wasn't purposely imaccurate\n",
    "\n",
    "Pre processing -> In processing -> Post processing \n",
    "## Homework "
   ]
  },
  {
   "cell_type": "markdown",
   "metadata": {},
   "source": [
    "---"
   ]
  },
  {
   "cell_type": "markdown",
   "metadata": {},
   "source": [
    "# Crowdsourcing\n",
    "[link](https://prad-coder.github.io/GenomeGamersFrontend/crowdsourcing#2-examples-of-distributed-computing)\n",
    "\n",
    "Uses the knowledge and skills of a large group of people\n",
    "Types:\n",
    "1. Crowd funding - raise money through funds from many, e.g. GoFundMe\n",
    "2. Crowd creation - Gathering creative input from a crowd, often for content generation or design e.g. wikipedia\n",
    "3. Crowd voting - get opinions from many people - e.g. Reddit\n",
    "4. Crowd wisdom - Using collective intelligence for decision-making or problem-solving e.g. stack overflow \n",
    "\n",
    "Data Crowdsourcing - method of colleting data from a large group of people, typically online\n",
    "- Wikipedia - collaborative\n",
    "- Google maps - real time tracking\n",
    "- benefits; quick data collection, diverse input, cost effective, scalable and adaptable\n",
    "- challenges: hard for privacy concerns, quality control\n",
    "- ethical concerns: privacy, exploitation, compensation\n",
    "\n",
    "Open Source Development\n",
    "- anyone can see and share the code\n",
    "- encourage teamwork + ideas\n",
    "- hard to manage \n",
    "\n",
    "Distributed Computing - Distributed computing involves a system of multiple computers working together over a network to solve a problem or complete a task. These systems share resources, such as processing power, storage, and data, to achieve a common goal.\n",
    "- e.g. Bitcoin mining, SETI@home, cloud computing\n",
    "- benefits:\n",
    "- challenges:\n",
    "- ethical concerns:\n",
    "\n",
    "## Popcorn hack 1\n",
    "- Crowdsourcing drives innovation through four main types: crowdfunding, which raises funds from many individuals to support startups and creative projects; crowd creation, where collective input generates content and designs, as seen in Wikipedia and open-source software; crowd voting, which gathers public opinions to influence trends and product development, like Reddit and online reviews; and crowd wisdom, which leverages collective intelligence for problem-solving, as used in Stack Overflow and Google’s reCAPTCHA. Each type enhances accessibility, scalability, and collaboration, accelerating innovation across various fields.\n",
    "\n",
    "## Popcorn Hack 2\n",
    "- Data crowdsourcing collects data from many individuals, often through online platforms, and contributes to open-source development by enabling collaborative data collection. This process improves accessibility and fosters innovation, as open-source projects benefit from diverse, up-to-date datasets. Examples of public datasets created through crowdsourcing include Wikipedia, OpenStreetMap (OSM), and Google Maps (user contributions), all of which provide valuable, freely accessible information for research, development, and technological advancements.\n",
    "\n",
    "## Popcorn Hack 3\n",
    "- Distributed computing contributes to innovations through crowdsourcing by allowing multiple computers to work together over a network to solve complex problems efficiently. This approach enables large-scale data processing, resource sharing, and computational power that would be impossible for a single machine. Crowdsourced distributed computing projects, such as SETI@home, use volunteers’ computers to analyze astronomical data, advancing space research. Similarly, Folding@home leverages distributed computing to simulate protein folding, helping scientists develop treatments for diseases. By harnessing the collective power of many computers, distributed computing enables breakthroughs in fields like medicine, artificial intelligence, and climate modeling, accelerating innovation through global collaboration.\n",
    "\n",
    "## Homework \n",
    "- Crowdsourcing has significantly impacted modern innovation by leveraging the knowledge and skills of a large group of people to solve problems, generate ideas, and develop new technologies. Different types of crowdsourcing, such as crowdfunding, crowd creation, crowd voting, and crowd wisdom, enable individuals and organizations to tap into collective intelligence for various purposes. Distributed computing further enhances crowdsourcing efforts by allowing multiple computers to work together, as seen in projects like SETI@home and Bitcoin mining. Additionally, data crowdsourcing plays a crucial role in open-source development by enabling collaborative data collection, contributing to publicly available datasets like Wikipedia, Google Maps, and OpenStreetMap.Looking ahead, crowdsourcing has the potential to drive even greater innovation by integrating emerging technologies such as artificial intelligence and blockchain, making collaborative problem-solving more efficient and impactful.\n"
   ]
  },
  {
   "cell_type": "markdown",
   "metadata": {},
   "source": [
    "---"
   ]
  },
  {
   "cell_type": "markdown",
   "metadata": {},
   "source": [
    "# Legal / Ethical Concerns (TEACHER)\n",
    "<a href=\"{{site.baseurl}}/legalethical/\">lesson</a>\n"
   ]
  },
  {
   "cell_type": "markdown",
   "metadata": {},
   "source": [
    "# Safe Computing\n",
    "[link](https://prad-coder.github.io/GenomeGamersFrontend/safecomputing)\n",
    "\n",
    "PII - Personally identifiable information\n",
    "- ssn, full name, etc.\n",
    "\n",
    "Cookies are use\n",
    "- time based (session based) - deleted when you close the tab\n",
    "- persistent cookies - stay there even if you close the tab\n",
    "- 1st party cookies - tracks user behavior by the owner to set user preferences \n",
    "- 3rd party cookies - 3rd parties use it to set ad preferences\n",
    "\n",
    "Password security\n",
    "- requirements ensure safety\n",
    "\n",
    "Encryption\n",
    "- process of changing data into a code format to prevent unauthorized access\n",
    "- **Symmetric Encryption (Private Key Encryption)**\n",
    "    - The same key is used for both encryption and decryption\n",
    "    - Faster but requires securely sharing the key between parties\n",
    "    - Example: AES (Advance Encryption Standard) used for securing files\n",
    "- **Asymmetric Encryption (Public Key Encryption)**\n",
    "    - Uses a pair of keys:\n",
    "    - Public Key (for encryption)\n",
    "    - Private key (for decryption)\n",
    "    - More secure for internet communications since users don’t need to share a single key.\n",
    "- **Hashing (One-way encryption)**\n",
    "    - Converts data into a fixed length string that cannot be reversed\n",
    "    - Used for storing passwordss securely.\n",
    "    - Example: SHA-256 (Secure Hash Algorithm) used in blockchain and password security.\n",
    "- Web Security: HTTPS (SSL/TLS encryption) protects websitess from eavesdropping\n",
    "- Messaging Apps: End-to-end encryption ensures that messages are private\n",
    "\n",
    "Phishing\n",
    "\n",
    "Website Spoofing\n",
    "\n",
    "Smishing (SMS Phishing)\n",
    "\n",
    "Verification\n",
    "- 2FA/MFA\n",
    "- Digital Structures\n",
    "- CAPTCHA\n",
    "\n",
    "## Homework "
   ]
  },
  {
   "cell_type": "code",
   "execution_count": 1,
   "metadata": {},
   "outputs": [
    {
     "name": "stdout",
     "output_type": "stream",
     "text": [
      "Random shift value: 14\n",
      "Result: yohvsfwbs\n"
     ]
    }
   ],
   "source": [
    "import random\n",
    "\n",
    "def caesar_cipher(text, shift, mode):\n",
    "    result = \"\"\n",
    "    \n",
    "    if shift == \"random\":\n",
    "        shift = random.randint(1, 25)  # Generate a random shift between 1 and 25\n",
    "        print(f\"Random shift value: {shift}\")  # Display the generated shift\n",
    "    \n",
    "    for char in text:\n",
    "        if char.isalpha():  # Encrypts only letters\n",
    "            shift_amount = shift if mode == \"encrypt\" else -shift\n",
    "            new_char = chr(((ord(char.lower()) - 97 + shift_amount) % 26) + 97)\n",
    "            result += new_char.upper() if char.isupper() else new_char\n",
    "        else:\n",
    "            result += char  # Keeps spaces and non-letter characters unchanged\n",
    "    \n",
    "    return result\n",
    "\n",
    "# Get user input\n",
    "mode = input(\"Do you want to encrypt or decrypt? \").strip().lower()\n",
    "message = input(\"Enter your message: \")\n",
    "shift_input = input(\"Enter shift value (number of places to shift or 'random'): \").strip()\n",
    "\n",
    "# Convert shift to integer if it's not \"random\"\n",
    "shift = int(shift_input) if shift_input.isdigit() else \"random\"\n",
    "\n",
    "# Perform encryption/decryption\n",
    "output = caesar_cipher(message, shift, mode)\n",
    "print(f\"Result: {output}\")"
   ]
  }
 ],
 "metadata": {
  "kernelspec": {
   "display_name": "venv",
   "language": "python",
   "name": "python3"
  },
  "language_info": {
   "codemirror_mode": {
    "name": "ipython",
    "version": 3
   },
   "file_extension": ".py",
   "mimetype": "text/x-python",
   "name": "python",
   "nbconvert_exporter": "python",
   "pygments_lexer": "ipython3",
   "version": "3.13.2"
  }
 },
 "nbformat": 4,
 "nbformat_minor": 2
}
