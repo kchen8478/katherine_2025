{
 "cells": [
  {
   "cell_type": "raw",
   "metadata": {
    "vscode": {
     "languageId": "raw"
    }
   },
   "source": [
    "---\n",
    "toc: true\n",
    "comments: false\n",
    "layout: post\n",
    "title: Big Idea 5\n",
    "permalink: /notebooks/tri_3/bigidea/bigideafive/\n",
    "type: ccc\n",
    "---"
   ]
  },
  {
   "cell_type": "markdown",
   "metadata": {},
   "source": [
    "# Beneficial and Harmful Effects\n",
    "[link](https://prajnar123123213.github.io/teaching_frontend/teaching/)\n",
    "\n",
    "**Beneficial effects:** the result of advancements in communication, commerce, and programming E.g. Baymax\n",
    "- Automated telephone tree, more efficient, saves money\n",
    "- Science + Tech, MRI scanning, DNA sequencing, developing vaccines\n",
    "- Access of Education, online encyclopedias, access to databases, browers\n",
    "\n",
    "**Harmful effects:** he potential misuse or dilemma that may come with developing technology E.g.\n",
    "- Unsafe use + Cyberbullying, kids being exposed to innappropriate schenarios, they can face harsh words\n",
    "- Social Media: many get bullied or experienced things leading to lowered self esteem, some commit suicide, others take on viral trends which can be dangereous\n",
    "- Blindly trusting computers: e.g. trolly problem\n",
    "\n",
    "**Neutral effects:** things that could be both beneficial or harmful\n",
    "- AI: ethics are debatable\n",
    "    - Easy to use, helps with learning, increased productivity\n",
    "    - Analyze data, help in healthcare\n",
    "    - Contributes to climate change and global warming to power ChatGPT\n",
    "    - deteriorates students' critical thinking\n",
    "- UAVs/Drones\n",
    "    - efficent way to spread pesticide\n",
    "    - violation of privacy\n",
    "    - back control leads to crashes into power lines\n",
    "    - use in military/warfare\n",
    "    - good camera to see things in the distance\n",
    "- Gene Editing\n",
    "    - helps scientists figure out how to treat genetic disease\n",
    "    - make crops resistant and more yield\n",
    "    - can cause fetal damages, can affect future generations\n",
    "    - when unregulated, can be used in harmful, cruel ways\n",
    "\n",
    "## Homework:\n",
    "Based on the brainstorming you did during the lesson, pick a beneficial or harmful effect and in 5 sentences fully explain why you think this topic is beneficial of harmful?\n",
    "- One harmful effect of technology is cyberbullying on social media. Many children and teenagers are exposed to harmful messages, harassment, and inappropriate content, which can severely impact their mental health. Victims of cyberbullying often experience anxiety, depression, and low self-esteem, and in extreme cases, it has led to self-harm or suicide. Additionally, viral challenges and trends can be dangerous, encouraging reckless behavior that puts young people at risk. While social media can connect people, its misuse can lead to devastating consequences, making it a significant harmful effect of modern technology.\n",
    "\n"
   ]
  },
  {
   "cell_type": "markdown",
   "metadata": {},
   "source": [
    "# Digital Divide\n",
    "[link](https://martijorbam.github.io/bi5_digitaldivide/csp%20big%20idea%205/2025/03/18/digdivide_IPYNB_2_.html)\n",
    "\n",
    "The digital divide significantly impacts students’ educational opportunities, particularly affecting those without reliable internet access. Addressing these disparities is crucial for ensuring equitable futures.\n",
    "\n",
    "**Importance of Technology Access:** Education - Online learning, research, assignments, Employment - Job searching, remote work, skill training, Healthcare - Telemedicine, health information, online appointments, Community Participation - Civic engagement, social connection, community resources\n",
    "\n",
    "**Weak Infrastruction:** developing nations -  internet infrastructure is limited or nonexistent, causing entire communities to remain offline\n",
    "\n",
    "**Ethical and Societal Concerns:** \n",
    "- Fairness - eneryone derserse access\n",
    "- Social Justice - technology gaps in marginal communities creates disadvantages\n",
    "- Responsibility - should be a community wide thing\n",
    "\n",
    "**Solutions to Bridge the Divide**\n",
    "- subsidize devices and internet costs\n",
    "- offer government funded programs\n",
    "- improved infrastructure\n",
    "- inclusive technologies for those with disabilities\n",
    "- public policies for digital equity\n",
    "\n",
    "\n",
    "## Homework \n",
    "Write 5 sentences describing what you have noticed about the digital divide in your own community. Consider how socioeconomic factors, location, and access to technology may play a role. Then explain how you can personally help bridge this gap—perhaps through awareness, advocating for policy changes, or supporting community-based tech programs. Make sure each sentence provides a clear insight or action step. Submit your 5 sentences in the next class.\n",
    "- In my community, I’ve noticed that students from lower-income households often struggle with completing online assignments due to unreliable internet access or a lack of personal devices. Rural areas face connectivity challenges, making remote learning and telemedicine difficult for many families who rely on these services. Public libraries and community centers provide internet access, but they often have limited hours, making it hard for students and job seekers to use them effectively. I can help bridge this gap by advocating for local government initiatives that provide subsidized internet access and devices to underprivileged students. Additionally, I can volunteer with local organizations that teach digital literacy skills, ensuring that more people in my community can benefit from available technology."
   ]
  },
  {
   "cell_type": "markdown",
   "metadata": {},
   "source": [
    "# Computing Bias\n",
    "## Homework "
   ]
  },
  {
   "cell_type": "markdown",
   "metadata": {},
   "source": [
    "# Crowdsourcing\n",
    "## Homework "
   ]
  },
  {
   "cell_type": "markdown",
   "metadata": {},
   "source": [
    "# Legal / Ethical Concerns\n",
    "## Homework"
   ]
  },
  {
   "cell_type": "markdown",
   "metadata": {},
   "source": [
    "# Safe Computing\n",
    "## Homework "
   ]
  }
 ],
 "metadata": {
  "language_info": {
   "name": "python"
  }
 },
 "nbformat": 4,
 "nbformat_minor": 2
}
