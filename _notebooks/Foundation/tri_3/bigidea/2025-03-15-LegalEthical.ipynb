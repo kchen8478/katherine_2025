{
 "cells": [
  {
   "cell_type": "markdown",
   "metadata": {
    "vscode": {
     "languageId": "raw"
    }
   },
   "source": [
    "---\n",
    "title: Legal Ethical Concerns, Team Teach\n",
    "description: Legal and Ethical Concerns involving computer science and software engineering\n",
    "layout: post\n",
    "type: hacks\n",
    "comments: true\n",
    "toc: false\n",
    "courses: { compsci: {week: 25} }\n",
    "authors: Nora A, Soni D, Katherine C\n",
    "permalink: /legalethical/\n",
    "---"
   ]
  },
  {
   "cell_type": "markdown",
   "metadata": {},
   "source": [
    "<h1 style=\"color:rgb(68, 121, 219) !important; text-decoration: underline;\">Legal & Ethical Concerns</h1>\n",
    "\n",
    "In this lesson we will go over the legal and ethical concerns of sharing and using code!\n"
   ]
  },
  {
   "cell_type": "markdown",
   "metadata": {},
   "source": [
    "---"
   ]
  },
  {
   "cell_type": "markdown",
   "metadata": {},
   "source": [
    "<h2 style=\"color:rgb(32, 172, 232) !important\">Popcorn Hacks 1</h2>"
   ]
  },
  {
   "cell_type": "markdown",
   "metadata": {
    "vscode": {
     "languageId": "html"
    }
   },
   "source": [
    "<h4>What is a legal concern that arises when sharing/using code?</h4>\n",
    "<button onclick=\"handleAnswerClick('legal-answer')\">Answer</button>\n",
    "<div id=\"legal-answer\" style=\"display: none;\">\n",
    "    1. Violating software licenses<br>\n",
    "    2. Copyright/incorrect citation of work<br>\n",
    "    3. Using code from a repo without a license (because \"all rights reserved\")\n",
    "</div>\n",
    "\n",
    "<h4>What is an ethical concern that arises when sharing/using code?</h4>\n",
    "<button onclick=\"handleAnswerClick('ethical-answer')\">Answer</button>\n",
    "<div id=\"ethical-answer\" style=\"display: none;\">\n",
    "    1. Exploiting open source code<br>\n",
    "    2. Ignoring licenses<br>\n",
    "    3. Profiting off of someone else's code\n",
    "</div>\n",
    "\n",
    "<script>\n",
    "const PASSWORD = \"soni123\";\n",
    "\n",
    "function handleAnswerClick(targetId) {\n",
    "    const userInput = prompt(\"Enter password:\");\n",
    "    if (userInput === PASSWORD) {\n",
    "        const el = document.getElementById(targetId);\n",
    "        el.style.display = el.style.display === \"none\" ? \"block\" : \"none\";\n",
    "    } else {\n",
    "        alert(\"Incorrect password!\");\n",
    "    }\n",
    "}\n",
    "</script>\n"
   ]
  },
  {
   "cell_type": "markdown",
   "metadata": {},
   "source": [
    "---"
   ]
  },
  {
   "cell_type": "markdown",
   "metadata": {},
   "source": [
    "<h1 style=\"color: #dbbb44 !important; text-decoration: underline;\">Legal Concerns</h1>"
   ]
  },
  {
   "cell_type": "markdown",
   "metadata": {},
   "source": [
    "## **Intellectual Property (IP)**\n",
    "Definition: Intellectual Property (IP) refers to creations of the mind, including inventions, literary and artistic works, designs, symbols, names, and images used in commerce. It grants creators exclusive rights to their work.\n",
    "\n",
    "Digital Impact on IP:\n",
    "- The digitization of information has made it easier to share, copy, and distribute content online.\n",
    "- While this has increased accessibility, it has also raised concerns about ownership, unauthorized use, and infringement.\n",
    "- Businesses and individuals struggle to protect their digital assets from unauthorized replication or misuse.\n",
    "\n",
    "Copyright Protection:\n",
    "- Copyright safeguards original works such as books, music, films, and digital content.\n",
    "- It prevents unauthorized use, reproduction, or distribution of creative works.\n",
    "- Copyright protection is automatic upon creation, but registration offers additional legal advantages.\n",
    "- Infringement can lead to penalties, including fines or legal action.\n",
    "\n",
    "Other Forms of IP Protection:\n",
    "- Patents: Protect inventions by granting exclusive rights to inventors.\n",
    "- Trademarks: Safeguard brand names, logos, and slogans from unauthorized use.\n",
    "- Trade Secrets: Cover confidential business information that provides a competitive advantage.\n",
    "\n",
    "Enforcing IP Rights:\n",
    "- Legal measures such as licensing agreements and digital rights management (DRM) help control IP usage.\n",
    "- Companies and creators must actively monitor and enforce their rights to prevent infringement.\n",
    "- IP protection continues to evolve with advancements in technology and digital platforms."
   ]
  },
  {
   "cell_type": "markdown",
   "metadata": {},
   "source": [
    "![IP]({{site.baseurl}}/images/IP.png)\n",
    "\n",
    "---"
   ]
  },
  {
   "cell_type": "markdown",
   "metadata": {},
   "source": [
    "## **Licensing a Repository**\n",
    "\n",
    "### What is a Software License?\n",
    "A software license is a **legal agreement** that defines how others can use, modify, and share your code. Without a license, the default rule is **\"All Rights Reserved\"**, meaning nobody else can legally use your code.\n",
    "\n",
    "### Why is Licensing Important?\n",
    "- Protects your work while allowing others to use it under set conditions.  \n",
    "- Encourages open-source collaboration with clear rules.  \n",
    "- Prevents **legal issues** from arising when using or sharing code.\n",
    "\n",
    "**without a license** you can't collaberate, and can seem unprofetion, and like a beginner in the coding community!"
   ]
  },
  {
   "cell_type": "markdown",
   "metadata": {},
   "source": [
    "---"
   ]
  },
  {
   "cell_type": "markdown",
   "metadata": {},
   "source": [
    "## **Open Source/Access**\n",
    "\n",
    "- Some of the legal ways to use materials created by someone else, include Open Source Code & Open Access\n",
    "\n",
    "\n",
    "### **Open Source Software VS Open Access Code**\n",
    "\n",
    "**Open-Source Software (OSS):** Software whose source code is publicly available for anyone to use, modify, and distribute.\n",
    "\n",
    "**Open Access Code:** online research that is freely available without any access restrictions and with minimal limitations on use, including copyright and licensing constraints\n",
    "\n",
    "\n",
    "### **Advantages**\n",
    "- Open source are programs that are made freely available for anyone to use and make modifications to (through their own version of the content)\n",
    "- Open Source Code --> Encourages people to collaborate and contribute to your creation\n",
    "- Open access is online research free of any and all restrictions on access and free of several restrictions on use, such as copyright and license restrictions\n",
    "\n",
    "\n",
    "### **Disadvantages**\n",
    "While open source content is usually used with good intention, the fact that it is free and anyone can make changes to it allows people to use it to harm other individuals or groups"
   ]
  },
  {
   "cell_type": "markdown",
   "metadata": {},
   "source": [
    "![Lisencing]({{site.baseurl}}/images/comic.png)\n",
    "\n",
    "---\n"
   ]
  },
  {
   "cell_type": "markdown",
   "metadata": {},
   "source": [
    "## **Open-Source Licenses/their uses and restrictions**\n",
    "\n",
    "| License | Permissions | Restrictions | Common Uses |\n",
    "|---------|------------|--------------|-------------|\n",
    "| **MIT** | Free to use, modify, and distribute with credit | No liability/warranty | Web apps, libraries, frameworks |\n",
    "| **Apache 2.0** | Similar to MIT but includes patent protection | No liability, must include license notice | Large-scale projects, APIs |\n",
    "| **GPL (General Public License)** | Free to use, but **modifications must also be open-source** | Can't make a private version | Software meant to stay open-source |\n",
    "| **BSD 3-Clause** |lets you use, modify, and share the code freely—even in closed-source projects—as long as you don’t use the original author’s name to promote your version. | No warranty | Academic projects, software |\n",
    "| **Creative Commons (CC0, CC-BY)** |let creators choose how others can use their work (not used often code)| Not for software, mostly docs, images | Documentation, art, books |"
   ]
  },
  {
   "cell_type": "markdown",
   "metadata": {},
   "source": [
    "---"
   ]
  },
  {
   "cell_type": "markdown",
   "metadata": {},
   "source": [
    "### SKIT EXAMPLE\n",
    "\n",
    "**Non-profit organization**: **GPL** – allows anyone to share and use the website,  \n",
    "but **forces others who use the code** to also release their project under **GPL/General Public Lisence** (Copyleft).\n",
    "\n",
    "**Indie Game Developer**: **MIT** – able to distribute code and share project freely  \n",
    "while keeping credit to the original developer.\n",
    "\n",
    "**Big Tech Company**: **Apache 2.0** – provides patent protection for the company  \n",
    "while allowing open-source development and commercial use.\n",
    "\n",
    "<p align=\"center\">\n",
    "  <img src=\"{{site.baseurl}}/images/GPL.png\" alt=\"GPL\" width=\"200\"/>\n",
    "  <img src=\"{{site.baseurl}}/images/MIT.png\" alt=\"MIT\" width=\"140\"/>\n",
    "  <img src=\"{{site.baseurl}}/images/Apache.png\" alt=\"Apache\" width=\"200\"/>\n",
    "</p>\n"
   ]
  },
  {
   "cell_type": "markdown",
   "metadata": {},
   "source": [
    "--- "
   ]
  },
  {
   "cell_type": "markdown",
   "metadata": {},
   "source": [
    "\n",
    "<h2 style=\"color:rgb(32, 172, 232) !important\">Popcorn Hacks 2</h2>\n",
    "<h3>You're building an open-source lyric guessing app. You want it to spread fast, but also don’t want big corporations to steal your work (without giving you credit!). Which license do you pick?</h3>\n",
    "\n",
    "<div id=\"choices\" style=\"display: flex; flex-direction: column; gap: 10px; max-width: 600px;\">\n",
    "  <div>\n",
    "    <button onclick=\"handleClick()\" style=\"padding: 10px; width: 150px;\" class=\"license-btn\">MIT</button>\n",
    "    <span class=\"result\" id=\"mit-result\" style=\"margin-left: 10px;\"></span>\n",
    "  </div>\n",
    "  <div>\n",
    "    <button onclick=\"handleClick()\" style=\"padding: 10px; width: 150px;\" class=\"license-btn\">GPL</button>\n",
    "    <span class=\"result\" id=\"gpl-result\" style=\"margin-left: 10px;\"></span>\n",
    "  </div>\n",
    "  <div>\n",
    "    <button onclick=\"handleClick()\" style=\"padding: 10px; width: 150px;\" class=\"license-btn\">Apache 2.0</button>\n",
    "    <span class=\"result\" id=\"apache-result\" style=\"margin-left: 10px;\"></span>\n",
    "  </div>\n",
    "</div>\n",
    "\n",
    "<script>\n",
    "let passwordAccepted = false;\n",
    "\n",
    "function handleClick() {\n",
    "  if (!passwordAccepted) {\n",
    "    const userInput = prompt(\"Enter password:\");\n",
    "    if (userInput === \"nora456\") {\n",
    "      passwordAccepted = true;\n",
    "      showAnswers();\n",
    "    } else {\n",
    "      alert(\"Incorrect password!\");\n",
    "      return;\n",
    "    }\n",
    "  } else {\n",
    "    showAnswers();\n",
    "  }\n",
    "}\n",
    "\n",
    "function showAnswers() {\n",
    "  const buttons = document.querySelectorAll(\".license-btn\");\n",
    "  const answers = [\n",
    "    \"Good for fast growth/spread of your code, but allows anyone to reuse your code however they want\",\n",
    "    \"Protects your work by requiring anyone who modifies/distributes it to also share their changes as open source.\",\n",
    "    \"Allows a wide range of use, but also offers a patent clause, to protect you from legal issues\"\n",
    "  ];\n",
    "\n",
    "  buttons.forEach((button, index) => {\n",
    "    button.style.backgroundColor = \"#66bb66\";\n",
    "  });\n",
    "\n",
    "  document.getElementById(\"mit-result\").textContent = answers[0];\n",
    "  document.getElementById(\"gpl-result\").textContent = answers[1];\n",
    "  document.getElementById(\"apache-result\").textContent = answers[2];\n",
    "}\n",
    "</script>\n"
   ]
  },
  {
   "cell_type": "markdown",
   "metadata": {},
   "source": [
    "**[Lisencing Video Example](https://youtu.be/HIwhtXnbLqg)**\n",
    "\n",
    "Explained--> Choosing licenses for your code depending on your use.  MIT for easy acsess, GPL for protection from theft/plagirism, Apache for patent/legal protection"
   ]
  },
  {
   "cell_type": "markdown",
   "metadata": {},
   "source": [
    "---"
   ]
  },
  {
   "cell_type": "markdown",
   "metadata": {},
   "source": [
    "## What is Considered **Breaking the Law?**\n",
    "Breaking software licensing laws can lead to **legal action, repo takedowns, or financial penalties**.\n",
    "\n",
    "| Action | Reasoning | License Violated |\n",
    "|-----------|--------------------|----------------------|\n",
    "| Using code that has no license | Default is **\"All Rights Reserved\"**, meaning you **can't use it**. | Any repo without a license |\n",
    "| Modifying & distributing GPL code **without releasing changes** | GPL requires derivative works to be open-source too. | **GPL (General Public License)** |\n",
    "| Removing a required license notice | Some licenses (MIT, Apache) require you to keep the copyright notice. | **MIT, Apache 2.0, GPL** |\n",
    "| Selling open-source software as your own | You must follow the license terms, even if commercial use is allowed. | **GPL, Apache 2.0, CC** |\n",
    "| Using code with a **Non-Commercial (NC)** license for profit | Some licenses prohibit **any commercial** use. | **Creative Commons NC** |\n",
    "| Copying software without **paying for a proprietary license** | If software isn't open-source, you need a paid license. | **All proprietary software** |\n"
   ]
  },
  {
   "cell_type": "markdown",
   "metadata": {},
   "source": [
    "---"
   ]
  },
  {
   "cell_type": "markdown",
   "metadata": {},
   "source": [
    "<h1 style=\"color: #aa53e0 !important; text-decoration: underline;\">Ethical Concerns</h1>"
   ]
  },
  {
   "cell_type": "markdown",
   "metadata": {},
   "source": [
    "### Ethical Concerns of Misusing Code\n",
    "\n",
    "- **Respect for Intellectual Property**: Using code without permission disrespects the creator's effort and legal rights.\n",
    "\n",
    "- **Violation of Developer Trust**: Open-source relies on community trust; misuse undermines this ecosystem.\n",
    "\n",
    "- **Unfair Advantage**: Using unlicensed or improperly licensed code can give an unfair edge over others who pay for/correctly use lisences.\n",
    "\n",
    "- **Lack of Attribution**: Failing to credit original authors (required in many licenses) is a form of plagiarism.\n",
    "\n",
    "- **Commercial Exploitation**: Profiting from someone's work without respecting license terms is ethically wrong, even if technically allowed.\n",
    "\n",
    "**[Supreme Court Google Vs. Oracle (example)](https://youtu.be/PQgo7Mfi1as?si=m9pWNZF-VifWCjtt)**\n",
    "\n",
    "Explained --> Oracle claiming Google coppied the APIs/softwhere, Google claims it was fair use due to lisences and due to APIs not being subject to copyright\n"
   ]
  },
  {
   "cell_type": "markdown",
   "metadata": {},
   "source": [
    "---"
   ]
  },
  {
   "cell_type": "markdown",
   "metadata": {},
   "source": [
    "![Copyright]({{site.baseurl}}/images/copyright.png)"
   ]
  },
  {
   "cell_type": "markdown",
   "metadata": {},
   "source": [
    "## **Plagiarism & Stealing Code**  \n",
    "Just because something isn’t illegal doesn’t mean it’s ethical. Stealing code can slow progress, discourage collaboration, and over time lead to legal issues.  \n",
    "\n",
    "### **What’s Wrong?**  \n",
    "- Removing author credit and claiming code as yours  \n",
    "- Copying code from GitHub/Stack Overflow without credit  \n",
    "- Selling modified open-source code without permission\n",
    "\n",
    "### **What’s Right?**  \n",
    "- Forking a repo and keeping author credit  \n",
    "- Adding a comment or README to give credit  \n",
    "- Following open-source licenses for modifications  \n",
    "\n",
    "### **Real-World Example**  \n",
    "\n",
    "**“the Trump administration’s new action plan can ensure that American-led A.I. built on democratic principles can prevail over CCP-built, autocratic, authoritarian AI.”**\n",
    "\n",
    "explained --> The article talks about the concerns from publishers/creative industries on tech companies (like google and OpenAI) push for little/no copyright laws on AI models.  Allowing the AI to be trained on copyright material without proper payment or citations.  This raises ethical concerns on stollen intellectual property and what could happen if we fully disregard lisences in the computer science field.\n",
    "\n",
    "<br>\n",
    "\n",
    "For more information, read the full article:\n",
    "\n",
    "**[Big Tech’s AI Pitch Seeks License to Steal](https://www.canoncitydailyrecord.com/2025/03/18/big-techs-ai-pitch-seeks-license-to-steal/amp/)**  \n"
   ]
  },
  {
   "cell_type": "markdown",
   "metadata": {},
   "source": [
    "---"
   ]
  },
  {
   "cell_type": "markdown",
   "metadata": {},
   "source": [
    "<h2 style=\"color:rgb(255, 138, 112) !important;\">Homework</h2>\n",
    "\n",
    "### 1. Create a new repo and add a lisence, Or add a new lisence/change a lisence of your repo.  Then explain why you chose that lisence!\n",
    "\n",
    "**Using GitHub Web Interface**\n",
    "1. Go to your repository on GitHub.\n",
    "2. Click **\"Add file\"** → **\"Create new file\"**.\n",
    "3. Name it `LICENSE` or `LICENSE.txt`.\n",
    "4. Click **“Choose a license template”** and select one.\n",
    "5. Commit the file to your repo.\n",
    "\n",
    "**OR Create A New Repo**\n",
    "1. While creating a new repository, there will be a dropdown option to add a liecense to your repository. Just pick which liences and create repository\n",
    "\n",
    "\n",
    "### 2. Fill out this google form with your links to repos/reasonings, and fill out the short quiz on the content\n",
    "\n",
    "[Homework Form](https://docs.google.com/forms/d/e/1FAIpQLSdQCBAeTd-NZHguUYKzN7DznfzJjIob3b3lY-KN3u-Cx37Rnw/viewform?embedded=true)"
   ]
  }
 ],
 "metadata": {
  "kernelspec": {
   "display_name": "Python 3",
   "language": "python",
   "name": "python3"
  },
  "language_info": {
   "codemirror_mode": {
    "name": "ipython",
    "version": 3
   },
   "file_extension": ".py",
   "mimetype": "text/x-python",
   "name": "python",
   "nbconvert_exporter": "python",
   "pygments_lexer": "ipython3",
   "version": "3.9.6"
  }
 },
 "nbformat": 4,
 "nbformat_minor": 2
}
