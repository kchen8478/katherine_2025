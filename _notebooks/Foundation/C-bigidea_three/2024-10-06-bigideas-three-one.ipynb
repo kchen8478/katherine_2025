{
 "cells": [
  {
   "cell_type": "raw",
   "metadata": {
    "vscode": {
     "languageId": "raw"
    }
   },
   "source": [
    "---\n",
    "layout: post\n",
    "title: Big Idea 3.1 Hacks\n",
    "permalink: /bigideas/three/one\n",
    "type: ccc\n",
    "author: Katherine Chen\n",
    "menu: nav/bigideas_three.html\n",
    "---"
   ]
  },
  {
   "cell_type": "code",
   "execution_count": null,
   "metadata": {},
   "outputs": [],
   "source": [
    "#POPCORNHACK PY\n",
    "in0 = input(\"What is your name? \")\n",
    "in1 = input(\"Your favorite color: \")\n",
    "in2 = input(\"Your favorite candy: \")\n",
    "in3 = input(\"Your favorite hobby: \")\n",
    "\n",
    "#list = [in0, in1, in2, in3]\n",
    "#dict = {in0, in1, in2, in3}\n",
    "\n",
    "print(list)\n",
    "print(dict)\n",
    "\n",
    "print(\"Hi, my name is \" + in0 + \". My favorite color is \" + in1 + \", my favorite candy is \" + in2 + \", and my favorite hobby is \" + in3 + \".\")"
   ]
  },
  {
   "cell_type": "code",
   "execution_count": null,
   "metadata": {
    "vscode": {
     "languageId": "javascript"
    }
   },
   "outputs": [],
   "source": [
    "// POPCORNHACK JS\n",
    "const input1 = prompt(\"What is your name?:\");\n",
    "const input2 = prompt(\"What is your age?:\");\n",
    "const var3 = prompt(\"What is your favorite Brawl Stars brawler?:\");\n",
    "\n",
    "\n",
    "// const myList = [var1, var2, var3];\n",
    "// console.log(myList);\n",
    "\n",
    "\n",
    "// const myDict = {name: var1, age: var2, favoriteFood: var3};\n",
    "// console.log(myDict);\n",
    "\n",
    "\n",
    "console.log(\"Hi, my name is \" + var1 + \", I'm \" + var2 + \" years old, and my favorite brawler is \" + var3 + \".\");"
   ]
  },
  {
   "cell_type": "code",
   "execution_count": null,
   "metadata": {},
   "outputs": [],
   "source": [
    "#HOMEWORK PY\n",
    "# In this hack, you will be given a set of personal information, and your job is to format and display it properly, along with generating a unique ID associated to that person using string slicing and concatenation.\n",
    "full_name = input(\"Name: \")\n",
    "age = int(input(\"Age: \"))\n",
    "email = input(\"Email: \")\n",
    "hobby = input(\"Hobby: \")\n",
    "pet = input(\"Pet Name: \")\n",
    "\n",
    "initials = full_name[0] + full_name[full_name.find(\" \") + 1] \n",
    "unique_id = initials + str(age) + pet[0]\n",
    "\n",
    "formatted_info = \"Personal Info:\\n\" \\\n",
    "                 \"- Full Name: \" + full_name + \"\\n\" \\\n",
    "                 \"- Age: \" + str(age) + \"\\n\" \\\n",
    "                 \"- Email: \" + email + \"\\n\" \\\n",
    "                 \"- Hobby: \" + hobby + \"\\n\" \\\n",
    "                 \"- Pet: \" + pet + \"\\n\" \\\n",
    "                 \"- Unique ID: \" + unique_id\n",
    "\n",
    "print(formatted_info)\n",
    "\n",
    "login = input(\"Please input your ID: \")\n",
    "if login == unique_id:\n",
    "    print(\":D\")\n",
    "else:\n",
    "    print(\"please try again\")"
   ]
  },
  {
   "cell_type": "code",
   "execution_count": null,
   "metadata": {
    "vscode": {
     "languageId": "javascript"
    }
   },
   "outputs": [],
   "source": [
    "// HOMEWORK JS\n",
    "// Recreate as JavaScript, with different parameters, a different/unique method of creating an ID, and a different way to display/store the data\n",
    "let name = prompt('Full Name: ');\n",
    "let age = prompt('Age: ');\n",
    "let email = prompt('Email: ');\n",
    "let hobby = prompt('Hobby: ');\n",
    "let pet = prompt('Pet Name: ');\n",
    "\n",
    "let initials = name[0] + name.substring(name.indexOf(\" \") + 1, name.indexOf(\" \") + 2);\n",
    "let unique_id = initials + age.toString() + pet[0];\n",
    "\n",
    "let info = \"Personal Info:\\n\" +\n",
    "                     \"- Full Name: \" + name + \"\\n\" +\n",
    "                     \"- Age: \" + age.toString() + \"\\n\" +\n",
    "                     \"- Email: \" + email + \"\\n\" +\n",
    "                     \"- Hobby: \" + hobby + \"\\n\" +\n",
    "                     \"- Pet: \" + pet + \"\\n\" +\n",
    "                     \"- Unique ID: \" + unique_id;\n",
    "\n",
    "\n",
    "console.log(info);\n",
    "\n",
    "let login = prompt(\"Please input your ID: \")\n",
    "if (login === unique_id) {\n",
    "    console.log(\":D\");\n",
    "}\n",
    "    else {\n",
    "        console.log(\"D:\")\n",
    "    }"
   ]
  }
 ],
 "metadata": {
  "language_info": {
   "name": "python"
  }
 },
 "nbformat": 4,
 "nbformat_minor": 2
}
