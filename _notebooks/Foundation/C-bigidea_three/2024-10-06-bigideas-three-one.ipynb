{
 "cells": [
  {
   "cell_type": "raw",
   "metadata": {
    "vscode": {
     "languageId": "raw"
    }
   },
   "source": [
    "---\n",
    "layout: post\n",
    "title: Big Idea 3.1 Hacks\n",
    "permalink: /bigideas/three/one\n",
    "type: ccc\n",
    "author: Katherine Chen\n",
    "menu: nav/bigideas_three.html\n",
    "---"
   ]
  },
  {
   "cell_type": "code",
   "execution_count": null,
   "metadata": {},
   "outputs": [],
   "source": [
    "#POPCORNHACK PY\n",
    "in0 = input(\"What is your name? \")\n",
    "in1 = input(\"Your favorite color: \")\n",
    "in2 = input(\"Your favorite candy: \")\n",
    "in3 = input(\"Your favorite hobby: \")\n",
    "\n",
    "#list = [in0, in1, in2, in3]\n",
    "#dict = {in0, in1, in2, in3}\n",
    "\n",
    "print(list)\n",
    "print(dict)\n",
    "\n",
    "print(\"Hi, my name is \" + in0 + \". My favorite color is \" + in1 + \", my favorite candy is \" + in2 + \", and my favorite hobby is \" + in3 + \".\")"
   ]
  },
  {
   "cell_type": "code",
   "execution_count": null,
   "metadata": {
    "vscode": {
     "languageId": "javascript"
    }
   },
   "outputs": [],
   "source": [
    "// POPCORNHACK JS\n",
    "const input1 = prompt(\"What is your name?:\");\n",
    "const input2 = prompt(\"What is your age?:\");\n",
    "const var3 = prompt(\"What is your favorite Brawl Stars brawler?:\");\n",
    "\n",
    "\n",
    "// const myList = [var1, var2, var3];\n",
    "// console.log(myList);\n",
    "\n",
    "\n",
    "// const myDict = {name: var1, age: var2, favoriteFood: var3};\n",
    "// console.log(myDict);\n",
    "\n",
    "\n",
    "console.log(\"Hi, my name is \" + var1 + \", I'm \" + var2 + \" years old, and my favorite brawler is \" + var3 + \".\");"
   ]
  },
  {
   "cell_type": "code",
   "execution_count": null,
   "metadata": {},
   "outputs": [],
   "source": [
    "#HOMEWORK PY\n",
    "# In this hack, you will be given a set of personal information, and your job is to format and display it properly, along with generating a unique ID associated to that person using string slicing and concatenation.\n",
    "full_name = \"John Doe\"\n",
    "age = 28\n",
    "email = \"john.doe@gmail.com\"\n",
    "hobby = \"Food Tasting\"\n",
    "dietary_preferences = \"Vegan\"\n",
    "\n",
    "initials = full_name[0] + full_name[full_name.find(\" \") + 1] \n",
    "unique_id = initials + str(age) \n",
    "\n",
    "formatted_info = \"Personal Info:\\n\" \\\n",
    "                 \"- Full Name: \" + full_name + \"\\n\" \\\n",
    "                 \"- Age: \" + str(age) + \"\\n\" \\\n",
    "                 \"- Email: \" + email + \"\\n\" \\\n",
    "                 \"- Hobby: \" + hobby + \"\\n\" \\\n",
    "                 \"- Dietary Preferences: \" + dietary_preferences + \"\\n\" \\\n",
    "                 \"- Unique ID: \" + unique_id\n",
    "\n",
    "print(formatted_info)\n"
   ]
  },
  {
   "cell_type": "code",
   "execution_count": null,
   "metadata": {
    "vscode": {
     "languageId": "javascript"
    }
   },
   "outputs": [],
   "source": [
    "// HOMEWORK JS\n",
    "// Recreate as JavaScript, with different parameters, a different/unique method of creating an ID, and a different way to display/store the data\n"
   ]
  }
 ],
 "metadata": {
  "language_info": {
   "name": "python"
  }
 },
 "nbformat": 4,
 "nbformat_minor": 2
}
