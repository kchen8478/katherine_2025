{
 "cells": [
  {
   "cell_type": "raw",
   "metadata": {
    "vscode": {
     "languageId": "raw"
    }
   },
   "source": [
    "---\n",
    "layout: post\n",
    "title: Big Idea 3.5 Hacks\n",
    "permalink: /bigideas/three/five\n",
    "type: ccc\n",
    "author: Katherine Chen\n",
    "menu: nav/bigideas_three.html\n",
    "---"
   ]
  },
  {
   "cell_type": "markdown",
   "metadata": {},
   "source": [
    "In this lesson, I learned about booleans, and how they could be used for rational or logical operations. Like for comparing strings or numbers. "
   ]
  },
  {
   "cell_type": "code",
   "execution_count": null,
   "metadata": {},
   "outputs": [],
   "source": [
    "#1 \n",
    "a = True\n",
    "b = False\n",
    "if a:\n",
    "    print(\"a is true\")\n",
    "else:\n",
    "    print(\"a is false\")\n",
    "\n",
    "if b:\n",
    "    print(\"b is true\")\n",
    "else:\n",
    "    print(\"b is false\")\n",
    "\n",
    "#2\n",
    "num = int(input(\"Please enter a number: \"))\n",
    "if num > 10:\n",
    "    print(num, \"is greater than 10\")\n",
    "elif num < 10:\n",
    "    print(num, \"is less than 1\")\n",
    "else:\n",
    "    print(\"Not a number\")\n",
    "\n",
    "#3\n",
    "num = int(input(\"please enter a three digit number: \"))\n",
    "if num >= 100 and num <= 999:\n",
    "    print(num, \"is three digits\")\n",
    "else:\n",
    "    print(num, \"is not three digits\")"
   ]
  },
  {
   "cell_type": "code",
   "execution_count": null,
   "metadata": {},
   "outputs": [],
   "source": [
    "#Python\n",
    "list = [True, False]\n",
    "print(\"A    B    Result\")\n",
    "for i in list:\n",
    "    for j in list:\n",
    "        print(i, j, i and j)"
   ]
  }
 ],
 "metadata": {
  "language_info": {
   "name": "python"
  }
 },
 "nbformat": 4,
 "nbformat_minor": 2
}
