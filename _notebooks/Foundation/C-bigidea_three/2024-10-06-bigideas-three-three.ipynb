{
 "cells": [
  {
   "cell_type": "raw",
   "metadata": {
    "vscode": {
     "languageId": "raw"
    }
   },
   "source": [
    "---\n",
    "layout: post\n",
    "title: Big Idea 3.3 Hacks\n",
    "permalink: /bigideas/three/three\n",
    "type: ccc\n",
    "author: Katherine Chen\n",
    "menu: nav/bigideas_three.html\n",
    "---"
   ]
  },
  {
   "cell_type": "markdown",
   "metadata": {},
   "source": [
    "We learned about mathematical operations in python (+-*/) and the homework and hacks were helpful in understanding how to use the operations. "
   ]
  },
  {
   "cell_type": "code",
   "execution_count": null,
   "metadata": {},
   "outputs": [],
   "source": [
    "#Hack1\n",
    "x = int(input(\"Please enter an x value: \"))\n",
    "y = 7 ( x + 4) - 6\n",
    "print(y)\n",
    "\n",
    "\n",
    "#Hack2\n",
    "number1 = 8\n",
    "number2 = 3\n",
    "number3 = number1 % number2 # 2\n",
    "number4 = number3 * number1 + 70 # 2 * 8 + 70\n",
    "print(number4) # 86\n",
    "\n",
    "\n",
    "#Hack3\n",
    "#Create a list of numbers that will all be tested for whether they are divisible by 3. If they are divisible by 3 the output will say that the number is divisible by 3 and if they aren't divisible by 3 the output will be the remainder when the number is divided by 3.\n",
    "num = int(input(\"Please enter a number: \"))\n",
    "r = 0\n",
    "if num % 3 == 0:\n",
    "    print(num, \"is divisible by 3\")\n",
    "else:\n",
    "    r = num % 3\n",
    "    print(num, \"is not divislbe by 3, the remainder is\", r)"
   ]
  },
  {
   "cell_type": "code",
   "execution_count": null,
   "metadata": {},
   "outputs": [],
   "source": [
    "#Homework no fibonacci\n",
    "import math\n",
    "\n",
    "shape = input(\"Shape: \").lower()\n",
    "l = None\n",
    "w = None\n",
    "h = None\n",
    "r = None\n",
    "x = None\n",
    "fib = [0]\n",
    "if shape == \"rectangle\" or shape == \"rect\":\n",
    "    l = int(input(\"Length of rectangle: \"))\n",
    "    w = int(input(\"Width of rectangle: \"))\n",
    "    print(l * w)\n",
    "elif shape == \"circle\" or shape == \"circ\":\n",
    "    r = float(input(\"What is the radius: \"))\n",
    "    print( math.pi * r * r)\n",
    "elif shape == \"square\":\n",
    "    l = int(input(\"What is the side length: \"))\n",
    "    print(l*l)\n",
    "elif shape == \"rectangular prism\":\n",
    "    l = int(input(\"Base: \"))\n",
    "    w = int(input(\"Width: \"))\n",
    "    h = int(input(\"Height: \"))\n",
    "    print(l * w * h)\n",
    "elif shape == \"sphere\":\n",
    "    r = float(input(\"What is the radius: \"))\n",
    "    print( 4 / 3 * math.pi * r * r)\n",
    "elif shape == \"pyramid\":\n",
    "    l = int(input(\"Base: \"))\n",
    "    w = int(input(\"Width: \"))\n",
    "    h = int(input(\"Height: \"))\n",
    "    print(1 / 3 * l * w * h)\n",
    "#elif shape == \"fibonacci sequence\" or shape == \"fibonacci\":\n",
    "#    x = int(input(\"What term of the fibonacci sequence do you want (e.g. 4th term = 2)\"))\n",
    "else:\n",
    "    print(\"Unknown, please try again\")"
   ]
  }
 ],
 "metadata": {
  "language_info": {
   "name": "python"
  }
 },
 "nbformat": 4,
 "nbformat_minor": 2
}
