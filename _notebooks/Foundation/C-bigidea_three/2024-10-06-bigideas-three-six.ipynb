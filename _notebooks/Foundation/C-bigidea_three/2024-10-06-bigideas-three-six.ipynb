{
 "cells": [
  {
   "cell_type": "raw",
   "metadata": {
    "vscode": {
     "languageId": "raw"
    }
   },
   "source": [
    "---\n",
    "layout: post\n",
    "title: Big Idea 3.6 Hacks\n",
    "permalink: /bigideas/three/six\n",
    "type: ccc\n",
    "author: Katherine Chen\n",
    "menu: nav/bigideas_three.html\n",
    "---"
   ]
  },
  {
   "cell_type": "code",
   "execution_count": null,
   "metadata": {},
   "outputs": [],
   "source": [
    "#Write a Python program that takes two numbers as input from the user. The program should: Determine if the numbers are equal, If the numbers are different, print which number is larger.\n",
    "num1 = int(input(\"Please input a number: \"))\n",
    "num2 = int(input(\"Please input another number: \"))\n",
    "if num1 == num2:\n",
    "    print(\"They are equal\")\n",
    "else:\n",
    "    if num1 >= num2:\n",
    "        print(num1, \"is larger.\")\n",
    "    else:\n",
    "        print(num2, \"is larger.\")"
   ]
  }
 ],
 "metadata": {
  "kernelspec": {
   "display_name": "Python 3",
   "language": "python",
   "name": "python3"
  },
  "language_info": {
   "name": "python",
   "version": "3.8.9"
  }
 },
 "nbformat": 4,
 "nbformat_minor": 2
}
