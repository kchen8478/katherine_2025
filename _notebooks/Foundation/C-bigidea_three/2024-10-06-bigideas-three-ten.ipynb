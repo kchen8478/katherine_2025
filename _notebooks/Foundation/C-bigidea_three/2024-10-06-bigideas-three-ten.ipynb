{
 "cells": [
  {
   "cell_type": "raw",
   "metadata": {
    "vscode": {
     "languageId": "raw"
    }
   },
   "source": [
    "---\n",
    "layout: post\n",
    "title: Big Idea 3.10 Hacks\n",
    "permalink: /bigideas/three/ten\n",
    "type: ccc\n",
    "author: Katherine Chen\n",
    "menu: nav/bigideas_three.html\n",
    "---"
   ]
  },
  {
   "cell_type": "code",
   "execution_count": null,
   "metadata": {},
   "outputs": [],
   "source": [
    "#Hack1\n",
    "aList = ['apple', 'banana', 'cherry']\n",
    "aList.append('grade')\n",
    "\n",
    "#Hack2\n",
    "aList.insert('apple', 'a') \n",
    "aList.remove('kiwi')  # Removes 'kiwi' from the list\n",
    "del aList[2]  # Deletes 'cherry' at index 2\n",
    "\n",
    "#Hack3\n",
    "aList[1] = 'banana'\n",
    "\n",
    "#HomeworkHack\n",
    "#l = [1, 2, 3, 4, 5, 6, 7]\n",
    "l = [9, 8, 7, 4]\n",
    "count = len(l)\n",
    "sum = 0\n",
    "for i in range(0,len(l)-1):\n",
    "    if l[i] % 2 == 0:\n",
    "        sum = sum + l[i]\n",
    "\n",
    "while count != 0:\n",
    "    for i in range (1, len(l)):\n",
    "        if l[i-1] > l[i]:\n",
    "            print(l[i-1], l[i],l)\n",
    "            temp = l[i]\n",
    "            l[i] = l[i-1]\n",
    "            l[i-1] = temp\n",
    "    count = count - 1\n",
    "print(\"The sum of the even values is\", sum)\n",
    "print(\"List:\", l, \"Min:\", l[0], \"Max:\", l[-1])"
   ]
  }
 ],
 "metadata": {
  "language_info": {
   "name": "python"
  }
 },
 "nbformat": 4,
 "nbformat_minor": 2
}
