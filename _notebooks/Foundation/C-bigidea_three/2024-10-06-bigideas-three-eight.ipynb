{
 "cells": [
  {
   "cell_type": "raw",
   "metadata": {
    "vscode": {
     "languageId": "raw"
    }
   },
   "source": [
    "---\n",
    "layout: post\n",
    "title: Big Idea 3.8 Hacks\n",
    "permalink: /bigideas/three/eight\n",
    "type: ccc\n",
    "author: Katherine Chen\n",
    "menu: nav/bigideas_three.html\n",
    "---"
   ]
  },
  {
   "cell_type": "code",
   "execution_count": null,
   "metadata": {},
   "outputs": [],
   "source": [
    "#Popcorn1\n",
    "\n",
    "#Popcorn2"
   ]
  },
  {
   "cell_type": "code",
   "execution_count": null,
   "metadata": {},
   "outputs": [],
   "source": [
    "'''\n",
    "Create a program that asks the user for a number and keeps asking until they enter a positive number.\n",
    "\n",
    "Requirements:\n",
    "\n",
    "Input Validation: Make sure that the input is actually a number. Display an ‘error’ message if the user inputted something that is NOT a number\n",
    "Positive Checker: If the user has entered a number that is positive, print a ‘success!’ message with the entered number\n",
    "If the user has entered a number that is not positive like zero or a negative number, print a ‘try again’ message, prompting them to keep inputting numbers till they input a positive number.\n",
    "'''\n",
    "\n",
    "def pos(num):\n",
    "    if type(num) == int:\n",
    "        if num > 0:\n",
    "            print(\"success\")\n",
    "        else:\n",
    "            print(\"try again\")\n",
    "    else:\n",
    "        print(\"error\")\n",
    "\n",
    "num = int(input(\"Please enter a number: \"))\n",
    "print(pos(num))"
   ]
  }
 ],
 "metadata": {
  "language_info": {
   "name": "python"
  }
 },
 "nbformat": 4,
 "nbformat_minor": 2
}
