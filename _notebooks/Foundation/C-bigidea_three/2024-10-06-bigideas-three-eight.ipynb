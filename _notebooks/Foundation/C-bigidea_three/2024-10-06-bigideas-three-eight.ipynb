{
 "cells": [
  {
   "cell_type": "raw",
   "metadata": {
    "vscode": {
     "languageId": "raw"
    }
   },
   "source": [
    "---\n",
    "layout: post\n",
    "title: Big Idea 3.8 Hacks\n",
    "permalink: /bigideas/three/eight\n",
    "type: ccc\n",
    "author: Katherine Chen\n",
    "menu: nav/bigideas_three.html\n",
    "---"
   ]
  },
  {
   "cell_type": "markdown",
   "metadata": {},
   "source": [
    "We learned about for loops, while loops, do/while loops, and infinite loops. We also learned try and except. The hacks and homework helped me understand what type of loop to use, and how they would operate. "
   ]
  },
  {
   "cell_type": "code",
   "execution_count": null,
   "metadata": {},
   "outputs": [],
   "source": [
    "#Popcorn1\n",
    "stu = input(\"Are you are student? Y/N \")\n",
    "age = int(input(\"What is your age? \"))\n",
    "tix = 10\n",
    "\n",
    "if stu == \"Y\":\n",
    "    print(\"Students get a 10% discount\")\n",
    "    if 0 <= age <= 12:\n",
    "        tix = tix * 0.5 * 0.2\n",
    "    elif 12 <= age <= 63:\n",
    "        tix = tix * 0.2\n",
    "    elif age >= 65:\n",
    "        tix = tix * 0.3 * 0.2\n",
    "    else:\n",
    "        print(\"Invalid age\")\n",
    "elif stu == \"N\":\n",
    "    if 0 <= age <= 12:\n",
    "        tix = tix * 0.5\n",
    "    elif 12 <= age <= 63:\n",
    "        tix = tix\n",
    "    elif age >= 65:\n",
    "        tix = tix * 0.3\n",
    "    else:\n",
    "        print(\"Invalid age\")\n",
    "else:\n",
    "    print(\"Please try again\")\n",
    "\n",
    "print(\"Your ticket will cost\", tix, \"dollars. \")"
   ]
  },
  {
   "cell_type": "code",
   "execution_count": null,
   "metadata": {},
   "outputs": [],
   "source": [
    "#Popcorn2\n",
    "try:\n",
    "    num = int(input(\"Enter a number: \"))  # Code that might raise an exception\n",
    "    result = 10 / num  # Could raise ZeroDivisionError if num is 0\n",
    "    print(\"Result:\", result)\n",
    "    if num % 2 != 0:\n",
    "        print(\"odd\")\n",
    "    else:\n",
    "        print(\"even\")\n",
    "except ValueError:\n",
    "    print(\"That's not a valid number!\")"
   ]
  },
  {
   "cell_type": "code",
   "execution_count": null,
   "metadata": {},
   "outputs": [],
   "source": [
    "'''\n",
    "Create a program that asks the user for a number and keeps asking until they enter a positive number.\n",
    "\n",
    "Requirements:\n",
    "\n",
    "Input Validation: Make sure that the input is actually a number. Display an ‘error’ message if the user inputted something that is NOT a number\n",
    "Positive Checker: If the user has entered a number that is positive, print a ‘success!’ message with the entered number\n",
    "If the user has entered a number that is not positive like zero or a negative number, print a ‘try again’ message, prompting them to keep inputting numbers till they input a positive number.\n",
    "'''\n",
    "x = False\n",
    "while x == False:\n",
    "    try:\n",
    "        num = int(input(\"Enter a number: \"))  # Code that might raise an exception\n",
    "        if num > 0:\n",
    "            print(\"success\")\n",
    "            x = True\n",
    "        else:\n",
    "            print(\"try again\")\n",
    "    except ValueError:\n",
    "        print(\"error\")"
   ]
  }
 ],
 "metadata": {
  "language_info": {
   "name": "python"
  }
 },
 "nbformat": 4,
 "nbformat_minor": 2
}
