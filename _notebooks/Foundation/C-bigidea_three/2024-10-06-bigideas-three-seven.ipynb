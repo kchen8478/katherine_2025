{
 "cells": [
  {
   "cell_type": "raw",
   "metadata": {
    "vscode": {
     "languageId": "raw"
    }
   },
   "source": [
    "---\n",
    "layout: post\n",
    "title: Big Idea 3.7 Hacks\n",
    "permalink: /bigideas/three/seven\n",
    "type: ccc\n",
    "author: Katherine Chen\n",
    "menu: nav/bigideas_three.html\n",
    "---"
   ]
  },
  {
   "cell_type": "code",
   "execution_count": null,
   "metadata": {},
   "outputs": [],
   "source": [
    "#Homework (Hacks)\n",
    "#Write pseudocode to determine if a student passes a class based on their exam scores and attendance using nested conditionals.\n",
    "#Write a python segment to decide the shipping cost based on the weight of a package and the delivery speed chosen (standard or express) using nested conditionals.\n",
    "#Write a python segment to have different ticket prices for different ages, with a discount for students\n",
    "\n",
    "#Challenge Hack\n",
    "#Write a program that helps a user determine the type of triangle based on the lengths of its sides. The program should prompt the user to input three positive numbers representing the sides of a triangle. Your task is to use nested conditionals to check the following:\n",
    "#First, verify if the three sides can form a valid triangle (hint: the sum of any two sides must be greater than the third side). If it’s a valid triangle, further classify it into one of the following categories:\n",
    "#Equilateral Triangle: All sides are equal.\n",
    "#Isosceles Triangle: Two sides are equal.\n",
    "#Scalene Triangle: No sides are equal. If the sides do not form a valid triangle, the program should display an appropriate message.\n",
    "#Requirements: Use nested conditionals to handle the logic for checking the type of triangle. Include input validation to ensure the user enters positive numbers\n"
   ]
  }
 ],
 "metadata": {
  "language_info": {
   "name": "python"
  }
 },
 "nbformat": 4,
 "nbformat_minor": 2
}
