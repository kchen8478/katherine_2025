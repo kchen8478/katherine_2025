{
 "cells": [
  {
   "cell_type": "raw",
   "metadata": {
    "vscode": {
     "languageId": "raw"
    }
   },
   "source": [
    "---\n",
    "layout: post\n",
    "title: Javascript API\n",
    "permalink: /javascript/pages/api\n",
    "type: ccc\n",
    "author: Katherine Chen\n",
    "menu: nav/javascript_pages.html\n",
    "---\n",
    "description: The Web Programming topics are focused on learning Frontend programming, GitHub Pages, and Jupyter Notebooks.\n",
    "categories: [Javascript]\n",
    "courses: { csse: {week: 1}, csp: {week: 1}, csa: {week: 0} }"
   ]
  }
 ],
 "metadata": {
  "language_info": {
   "name": "python"
  }
 },
 "nbformat": 4,
 "nbformat_minor": 2
}
